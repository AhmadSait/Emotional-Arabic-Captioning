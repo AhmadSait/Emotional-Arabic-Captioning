{
 "cells": [
  {
   "cell_type": "code",
   "execution_count": 9,
   "id": "f919b715-429f-48a0-a3f6-42a24715bbbe",
   "metadata": {
    "scrolled": true
   },
   "outputs": [
    {
     "name": "stdout",
     "output_type": "stream",
     "text": [
      "Requirement already satisfied: evaluate in /home/saitaa0b/miniconda3/envs/allam_hunayn/lib/python3.10/site-packages (0.4.3)\n",
      "Requirement already satisfied: datasets>=2.0.0 in /home/saitaa0b/miniconda3/envs/allam_hunayn/lib/python3.10/site-packages (from evaluate) (3.5.0)\n",
      "Requirement already satisfied: numpy>=1.17 in /home/saitaa0b/miniconda3/envs/allam_hunayn/lib/python3.10/site-packages (from evaluate) (2.1.2)\n",
      "Requirement already satisfied: dill in /home/saitaa0b/miniconda3/envs/allam_hunayn/lib/python3.10/site-packages (from evaluate) (0.3.8)\n",
      "Requirement already satisfied: pandas in /home/saitaa0b/miniconda3/envs/allam_hunayn/lib/python3.10/site-packages (from evaluate) (2.2.3)\n",
      "Requirement already satisfied: requests>=2.19.0 in /home/saitaa0b/miniconda3/envs/allam_hunayn/lib/python3.10/site-packages (from evaluate) (2.32.3)\n",
      "Requirement already satisfied: tqdm>=4.62.1 in /home/saitaa0b/miniconda3/envs/allam_hunayn/lib/python3.10/site-packages (from evaluate) (4.67.1)\n",
      "Requirement already satisfied: xxhash in /home/saitaa0b/miniconda3/envs/allam_hunayn/lib/python3.10/site-packages (from evaluate) (3.5.0)\n",
      "Requirement already satisfied: multiprocess in /home/saitaa0b/miniconda3/envs/allam_hunayn/lib/python3.10/site-packages (from evaluate) (0.70.16)\n",
      "Requirement already satisfied: fsspec>=2021.05.0 in /home/saitaa0b/miniconda3/envs/allam_hunayn/lib/python3.10/site-packages (from fsspec[http]>=2021.05.0->evaluate) (2024.6.1)\n",
      "Requirement already satisfied: huggingface-hub>=0.7.0 in /home/saitaa0b/miniconda3/envs/allam_hunayn/lib/python3.10/site-packages (from evaluate) (0.30.2)\n",
      "Requirement already satisfied: packaging in /home/saitaa0b/miniconda3/envs/allam_hunayn/lib/python3.10/site-packages (from evaluate) (24.2)\n",
      "Requirement already satisfied: filelock in /home/saitaa0b/miniconda3/envs/allam_hunayn/lib/python3.10/site-packages (from datasets>=2.0.0->evaluate) (3.13.1)\n",
      "Requirement already satisfied: pyarrow>=15.0.0 in /home/saitaa0b/miniconda3/envs/allam_hunayn/lib/python3.10/site-packages (from datasets>=2.0.0->evaluate) (19.0.1)\n",
      "Requirement already satisfied: aiohttp in /home/saitaa0b/miniconda3/envs/allam_hunayn/lib/python3.10/site-packages (from datasets>=2.0.0->evaluate) (3.11.16)\n",
      "Requirement already satisfied: pyyaml>=5.1 in /home/saitaa0b/miniconda3/envs/allam_hunayn/lib/python3.10/site-packages (from datasets>=2.0.0->evaluate) (6.0.2)\n",
      "Requirement already satisfied: typing-extensions>=3.7.4.3 in /home/saitaa0b/miniconda3/envs/allam_hunayn/lib/python3.10/site-packages (from huggingface-hub>=0.7.0->evaluate) (4.12.2)\n",
      "Requirement already satisfied: charset-normalizer<4,>=2 in /home/saitaa0b/miniconda3/envs/allam_hunayn/lib/python3.10/site-packages (from requests>=2.19.0->evaluate) (3.4.1)\n",
      "Requirement already satisfied: idna<4,>=2.5 in /home/saitaa0b/miniconda3/envs/allam_hunayn/lib/python3.10/site-packages (from requests>=2.19.0->evaluate) (3.10)\n",
      "Requirement already satisfied: urllib3<3,>=1.21.1 in /home/saitaa0b/miniconda3/envs/allam_hunayn/lib/python3.10/site-packages (from requests>=2.19.0->evaluate) (2.4.0)\n",
      "Requirement already satisfied: certifi>=2017.4.17 in /home/saitaa0b/miniconda3/envs/allam_hunayn/lib/python3.10/site-packages (from requests>=2.19.0->evaluate) (2025.1.31)\n",
      "Requirement already satisfied: python-dateutil>=2.8.2 in /home/saitaa0b/miniconda3/envs/allam_hunayn/lib/python3.10/site-packages (from pandas->evaluate) (2.9.0.post0)\n",
      "Requirement already satisfied: pytz>=2020.1 in /home/saitaa0b/miniconda3/envs/allam_hunayn/lib/python3.10/site-packages (from pandas->evaluate) (2025.2)\n",
      "Requirement already satisfied: tzdata>=2022.7 in /home/saitaa0b/miniconda3/envs/allam_hunayn/lib/python3.10/site-packages (from pandas->evaluate) (2025.2)\n",
      "Requirement already satisfied: aiohappyeyeballs>=2.3.0 in /home/saitaa0b/miniconda3/envs/allam_hunayn/lib/python3.10/site-packages (from aiohttp->datasets>=2.0.0->evaluate) (2.6.1)\n",
      "Requirement already satisfied: aiosignal>=1.1.2 in /home/saitaa0b/miniconda3/envs/allam_hunayn/lib/python3.10/site-packages (from aiohttp->datasets>=2.0.0->evaluate) (1.3.2)\n",
      "Requirement already satisfied: async-timeout<6.0,>=4.0 in /home/saitaa0b/miniconda3/envs/allam_hunayn/lib/python3.10/site-packages (from aiohttp->datasets>=2.0.0->evaluate) (5.0.1)\n",
      "Requirement already satisfied: attrs>=17.3.0 in /home/saitaa0b/miniconda3/envs/allam_hunayn/lib/python3.10/site-packages (from aiohttp->datasets>=2.0.0->evaluate) (25.3.0)\n",
      "Requirement already satisfied: frozenlist>=1.1.1 in /home/saitaa0b/miniconda3/envs/allam_hunayn/lib/python3.10/site-packages (from aiohttp->datasets>=2.0.0->evaluate) (1.5.0)\n",
      "Requirement already satisfied: multidict<7.0,>=4.5 in /home/saitaa0b/miniconda3/envs/allam_hunayn/lib/python3.10/site-packages (from aiohttp->datasets>=2.0.0->evaluate) (6.4.3)\n",
      "Requirement already satisfied: propcache>=0.2.0 in /home/saitaa0b/miniconda3/envs/allam_hunayn/lib/python3.10/site-packages (from aiohttp->datasets>=2.0.0->evaluate) (0.3.1)\n",
      "Requirement already satisfied: yarl<2.0,>=1.17.0 in /home/saitaa0b/miniconda3/envs/allam_hunayn/lib/python3.10/site-packages (from aiohttp->datasets>=2.0.0->evaluate) (1.19.0)\n",
      "Requirement already satisfied: six>=1.5 in /home/saitaa0b/miniconda3/envs/allam_hunayn/lib/python3.10/site-packages (from python-dateutil>=2.8.2->pandas->evaluate) (1.17.0)\n",
      "Requirement already satisfied: nltk in /home/saitaa0b/miniconda3/envs/allam_hunayn/lib/python3.10/site-packages (3.9.1)\n",
      "Requirement already satisfied: click in /home/saitaa0b/miniconda3/envs/allam_hunayn/lib/python3.10/site-packages (from nltk) (8.1.8)\n",
      "Requirement already satisfied: joblib in /home/saitaa0b/miniconda3/envs/allam_hunayn/lib/python3.10/site-packages (from nltk) (1.4.2)\n",
      "Requirement already satisfied: regex>=2021.8.3 in /home/saitaa0b/miniconda3/envs/allam_hunayn/lib/python3.10/site-packages (from nltk) (2024.11.6)\n",
      "Requirement already satisfied: tqdm in /home/saitaa0b/miniconda3/envs/allam_hunayn/lib/python3.10/site-packages (from nltk) (4.67.1)\n",
      "Collecting rouge_score\n",
      "  Downloading rouge_score-0.1.2.tar.gz (17 kB)\n",
      "  Preparing metadata (setup.py) ... \u001b[?25ldone\n",
      "\u001b[?25hCollecting absl-py\n",
      "  Using cached absl_py-2.2.2-py3-none-any.whl.metadata (2.6 kB)\n",
      "Requirement already satisfied: nltk in /home/saitaa0b/miniconda3/envs/allam_hunayn/lib/python3.10/site-packages (from rouge_score) (3.9.1)\n",
      "Requirement already satisfied: numpy in /home/saitaa0b/miniconda3/envs/allam_hunayn/lib/python3.10/site-packages (from rouge_score) (2.1.2)\n",
      "Requirement already satisfied: six>=1.14.0 in /home/saitaa0b/miniconda3/envs/allam_hunayn/lib/python3.10/site-packages (from rouge_score) (1.17.0)\n",
      "Requirement already satisfied: click in /home/saitaa0b/miniconda3/envs/allam_hunayn/lib/python3.10/site-packages (from nltk->rouge_score) (8.1.8)\n",
      "Requirement already satisfied: joblib in /home/saitaa0b/miniconda3/envs/allam_hunayn/lib/python3.10/site-packages (from nltk->rouge_score) (1.4.2)\n",
      "Requirement already satisfied: regex>=2021.8.3 in /home/saitaa0b/miniconda3/envs/allam_hunayn/lib/python3.10/site-packages (from nltk->rouge_score) (2024.11.6)\n",
      "Requirement already satisfied: tqdm in /home/saitaa0b/miniconda3/envs/allam_hunayn/lib/python3.10/site-packages (from nltk->rouge_score) (4.67.1)\n",
      "Using cached absl_py-2.2.2-py3-none-any.whl (135 kB)\n",
      "Building wheels for collected packages: rouge_score\n",
      "  Building wheel for rouge_score (setup.py) ... \u001b[?25ldone\n",
      "\u001b[?25h  Created wheel for rouge_score: filename=rouge_score-0.1.2-py3-none-any.whl size=24986 sha256=bb415b1837bd829fe0e5125bec284d0bb66e6646c9cd8b0a64bc056812f19367\n",
      "  Stored in directory: /home/saitaa0b/.cache/pip/wheels/5f/dd/89/461065a73be61a532ff8599a28e9beef17985c9e9c31e541b4\n",
      "Successfully built rouge_score\n",
      "Installing collected packages: absl-py, rouge_score\n",
      "Successfully installed absl-py-2.2.2 rouge_score-0.1.2\n"
     ]
    }
   ],
   "source": [
    "!pip install evaluate\n",
    "!pip install nltk\n",
    "!pip install rouge_score absl-py\n"
   ]
  },
  {
   "cell_type": "code",
   "execution_count": 1,
   "id": "e9a167cf-7900-47d1-a876-5bbd3af114fc",
   "metadata": {},
   "outputs": [],
   "source": [
    "import os\n",
    "import gc\n",
    "import torch\n",
    "import pandas as pd\n",
    "from tqdm import tqdm\n",
    "from PIL import Image\n",
    "import glob\n",
    "from transformers import BlipProcessor, BlipForConditionalGeneration"
   ]
  },
  {
   "cell_type": "code",
   "execution_count": null,
   "id": "3cd86456-7f1e-453b-9fe5-2afb9067d887",
   "metadata": {
    "scrolled": true
   },
   "outputs": [
    {
     "name": "stderr",
     "output_type": "stream",
     "text": [
      "Generating captions:   7%|▋         | 2041/29061 [56:27<12:41:45,  1.69s/it]"
     ]
    },
    {
     "name": "stdout",
     "output_type": "stream",
     "text": [
      "[Skipped] ../../../../ibex/ai/home/saitaa0b/wikiart/Impressionism/joaquã­n-sorolla_bathing.jpg due to error: [Errno 2] No such file or directory: '/ibex/user/saitaa0b/wikiart/Impressionism/joaquã\\xadn-sorolla_bathing.jpg'\n",
      "[Skipped] ../../../../ibex/ai/home/saitaa0b/wikiart/Impressionism/joaquã­n-sorolla_bathing.jpg due to error: [Errno 2] No such file or directory: '/ibex/user/saitaa0b/wikiart/Impressionism/joaquã\\xadn-sorolla_bathing.jpg'\n",
      "[Skipped] ../../../../ibex/ai/home/saitaa0b/wikiart/Impressionism/joaquã­n-sorolla_bathing.jpg due to error: [Errno 2] No such file or directory: '/ibex/user/saitaa0b/wikiart/Impressionism/joaquã\\xadn-sorolla_bathing.jpg'\n",
      "[Skipped] ../../../../ibex/ai/home/saitaa0b/wikiart/Impressionism/joaquã­n-sorolla_bathing.jpg due to error: [Errno 2] No such file or directory: '/ibex/user/saitaa0b/wikiart/Impressionism/joaquã\\xadn-sorolla_bathing.jpg'\n",
      "[Skipped] ../../../../ibex/ai/home/saitaa0b/wikiart/Impressionism/joaquã­n-sorolla_bathing.jpg due to error: [Errno 2] No such file or directory: '/ibex/user/saitaa0b/wikiart/Impressionism/joaquã\\xadn-sorolla_bathing.jpg'\n"
     ]
    },
    {
     "name": "stderr",
     "output_type": "stream",
     "text": [
      "Generating captions:   9%|▉         | 2716/29061 [1:15:07<13:05:51,  1.79s/it]"
     ]
    },
    {
     "name": "stdout",
     "output_type": "stream",
     "text": [
      "[Skipped] ../../../../ibex/ai/home/saitaa0b/wikiart/Impressionism/joaquã­n-sorolla_fountain-at-the-alcazin-sevilla.jpg due to error: [Errno 2] No such file or directory: '/ibex/user/saitaa0b/wikiart/Impressionism/joaquã\\xadn-sorolla_fountain-at-the-alcazin-sevilla.jpg'\n",
      "[Skipped] ../../../../ibex/ai/home/saitaa0b/wikiart/Impressionism/joaquã­n-sorolla_fountain-at-the-alcazin-sevilla.jpg due to error: [Errno 2] No such file or directory: '/ibex/user/saitaa0b/wikiart/Impressionism/joaquã\\xadn-sorolla_fountain-at-the-alcazin-sevilla.jpg'\n",
      "[Skipped] ../../../../ibex/ai/home/saitaa0b/wikiart/Impressionism/joaquã­n-sorolla_fountain-at-the-alcazin-sevilla.jpg due to error: [Errno 2] No such file or directory: '/ibex/user/saitaa0b/wikiart/Impressionism/joaquã\\xadn-sorolla_fountain-at-the-alcazin-sevilla.jpg'\n",
      "[Skipped] ../../../../ibex/ai/home/saitaa0b/wikiart/Impressionism/joaquã­n-sorolla_fountain-at-the-alcazin-sevilla.jpg due to error: [Errno 2] No such file or directory: '/ibex/user/saitaa0b/wikiart/Impressionism/joaquã\\xadn-sorolla_fountain-at-the-alcazin-sevilla.jpg'\n",
      "[Skipped] ../../../../ibex/ai/home/saitaa0b/wikiart/Impressionism/joaquã­n-sorolla_fountain-at-the-alcazin-sevilla.jpg due to error: [Errno 2] No such file or directory: '/ibex/user/saitaa0b/wikiart/Impressionism/joaquã\\xadn-sorolla_fountain-at-the-alcazin-sevilla.jpg'\n"
     ]
    },
    {
     "name": "stderr",
     "output_type": "stream",
     "text": [
      "Generating captions:  11%|█         | 3092/29061 [1:25:14<11:37:34,  1.61s/it]"
     ]
    },
    {
     "name": "stdout",
     "output_type": "stream",
     "text": [
      "[Skipped] ../../../../ibex/ai/home/saitaa0b/wikiart/Post_Impressionism/grã©goire-michonze_figures-in-the-village-1964.jpg due to error: [Errno 2] No such file or directory: '/ibex/user/saitaa0b/wikiart/Post_Impressionism/grã©goire-michonze_figures-in-the-village-1964.jpg'\n",
      "[Skipped] ../../../../ibex/ai/home/saitaa0b/wikiart/Post_Impressionism/grã©goire-michonze_figures-in-the-village-1964.jpg due to error: [Errno 2] No such file or directory: '/ibex/user/saitaa0b/wikiart/Post_Impressionism/grã©goire-michonze_figures-in-the-village-1964.jpg'\n",
      "[Skipped] ../../../../ibex/ai/home/saitaa0b/wikiart/Post_Impressionism/grã©goire-michonze_figures-in-the-village-1964.jpg due to error: [Errno 2] No such file or directory: '/ibex/user/saitaa0b/wikiart/Post_Impressionism/grã©goire-michonze_figures-in-the-village-1964.jpg'\n",
      "[Skipped] ../../../../ibex/ai/home/saitaa0b/wikiart/Post_Impressionism/grã©goire-michonze_figures-in-the-village-1964.jpg due to error: [Errno 2] No such file or directory: '/ibex/user/saitaa0b/wikiart/Post_Impressionism/grã©goire-michonze_figures-in-the-village-1964.jpg'\n",
      "[Skipped] ../../../../ibex/ai/home/saitaa0b/wikiart/Post_Impressionism/grã©goire-michonze_figures-in-the-village-1964.jpg due to error: [Errno 2] No such file or directory: '/ibex/user/saitaa0b/wikiart/Post_Impressionism/grã©goire-michonze_figures-in-the-village-1964.jpg'\n"
     ]
    },
    {
     "name": "stderr",
     "output_type": "stream",
     "text": [
      "Generating captions:  12%|█▏        | 3419/29061 [1:34:08<12:16:16,  1.72s/it]"
     ]
    },
    {
     "name": "stdout",
     "output_type": "stream",
     "text": [
      "[Skipped] ../../../../ibex/ai/home/saitaa0b/wikiart/Symbolism/georges-lacombeâ _the-apple-picker.jpg due to error: [Errno 2] No such file or directory: '/ibex/user/saitaa0b/wikiart/Symbolism/georges-lacombeâ\\xa0_the-apple-picker.jpg'\n",
      "[Skipped] ../../../../ibex/ai/home/saitaa0b/wikiart/Symbolism/georges-lacombeâ _the-apple-picker.jpg due to error: [Errno 2] No such file or directory: '/ibex/user/saitaa0b/wikiart/Symbolism/georges-lacombeâ\\xa0_the-apple-picker.jpg'\n",
      "[Skipped] ../../../../ibex/ai/home/saitaa0b/wikiart/Symbolism/georges-lacombeâ _the-apple-picker.jpg due to error: [Errno 2] No such file or directory: '/ibex/user/saitaa0b/wikiart/Symbolism/georges-lacombeâ\\xa0_the-apple-picker.jpg'\n",
      "[Skipped] ../../../../ibex/ai/home/saitaa0b/wikiart/Symbolism/georges-lacombeâ _the-apple-picker.jpg due to error: [Errno 2] No such file or directory: '/ibex/user/saitaa0b/wikiart/Symbolism/georges-lacombeâ\\xa0_the-apple-picker.jpg'\n",
      "[Skipped] ../../../../ibex/ai/home/saitaa0b/wikiart/Symbolism/georges-lacombeâ _the-apple-picker.jpg due to error: [Errno 2] No such file or directory: '/ibex/user/saitaa0b/wikiart/Symbolism/georges-lacombeâ\\xa0_the-apple-picker.jpg'\n"
     ]
    },
    {
     "name": "stderr",
     "output_type": "stream",
     "text": [
      "Generating captions:  14%|█▎        | 3967/29061 [1:49:32<11:30:04,  1.65s/it]"
     ]
    },
    {
     "name": "stdout",
     "output_type": "stream",
     "text": [
      "[Skipped] ../../../../ibex/ai/home/saitaa0b/wikiart/Impressionism/joaquã­n-sorolla_pine-trees-1902.jpg due to error: [Errno 2] No such file or directory: '/ibex/user/saitaa0b/wikiart/Impressionism/joaquã\\xadn-sorolla_pine-trees-1902.jpg'\n",
      "[Skipped] ../../../../ibex/ai/home/saitaa0b/wikiart/Impressionism/joaquã­n-sorolla_pine-trees-1902.jpg due to error: [Errno 2] No such file or directory: '/ibex/user/saitaa0b/wikiart/Impressionism/joaquã\\xadn-sorolla_pine-trees-1902.jpg'\n",
      "[Skipped] ../../../../ibex/ai/home/saitaa0b/wikiart/Impressionism/joaquã­n-sorolla_pine-trees-1902.jpg due to error: [Errno 2] No such file or directory: '/ibex/user/saitaa0b/wikiart/Impressionism/joaquã\\xadn-sorolla_pine-trees-1902.jpg'\n",
      "[Skipped] ../../../../ibex/ai/home/saitaa0b/wikiart/Impressionism/joaquã­n-sorolla_pine-trees-1902.jpg due to error: [Errno 2] No such file or directory: '/ibex/user/saitaa0b/wikiart/Impressionism/joaquã\\xadn-sorolla_pine-trees-1902.jpg'\n",
      "[Skipped] ../../../../ibex/ai/home/saitaa0b/wikiart/Impressionism/joaquã­n-sorolla_pine-trees-1902.jpg due to error: [Errno 2] No such file or directory: '/ibex/user/saitaa0b/wikiart/Impressionism/joaquã\\xadn-sorolla_pine-trees-1902.jpg'\n"
     ]
    },
    {
     "name": "stderr",
     "output_type": "stream",
     "text": [
      "Generating captions:  14%|█▍        | 4117/29061 [1:53:25<11:53:24,  1.72s/it]"
     ]
    },
    {
     "name": "stdout",
     "output_type": "stream",
     "text": [
      "[Skipped] ../../../../ibex/ai/home/saitaa0b/wikiart/Naive_Art_Primitivism/grã©goire-michonze_family-1964.jpg due to error: [Errno 2] No such file or directory: '/ibex/user/saitaa0b/wikiart/Naive_Art_Primitivism/grã©goire-michonze_family-1964.jpg'\n",
      "[Skipped] ../../../../ibex/ai/home/saitaa0b/wikiart/Naive_Art_Primitivism/grã©goire-michonze_family-1964.jpg due to error: [Errno 2] No such file or directory: '/ibex/user/saitaa0b/wikiart/Naive_Art_Primitivism/grã©goire-michonze_family-1964.jpg'\n",
      "[Skipped] ../../../../ibex/ai/home/saitaa0b/wikiart/Naive_Art_Primitivism/grã©goire-michonze_family-1964.jpg due to error: [Errno 2] No such file or directory: '/ibex/user/saitaa0b/wikiart/Naive_Art_Primitivism/grã©goire-michonze_family-1964.jpg'\n",
      "[Skipped] ../../../../ibex/ai/home/saitaa0b/wikiart/Naive_Art_Primitivism/grã©goire-michonze_family-1964.jpg due to error: [Errno 2] No such file or directory: '/ibex/user/saitaa0b/wikiart/Naive_Art_Primitivism/grã©goire-michonze_family-1964.jpg'\n",
      "[Skipped] ../../../../ibex/ai/home/saitaa0b/wikiart/Naive_Art_Primitivism/grã©goire-michonze_family-1964.jpg due to error: [Errno 2] No such file or directory: '/ibex/user/saitaa0b/wikiart/Naive_Art_Primitivism/grã©goire-michonze_family-1964.jpg'\n"
     ]
    },
    {
     "name": "stderr",
     "output_type": "stream",
     "text": [
      "Generating captions:  16%|█▌        | 4539/29061 [2:05:00<9:49:31,  1.44s/it] "
     ]
    },
    {
     "name": "stdout",
     "output_type": "stream",
     "text": [
      "[Skipped] ../../../../ibex/ai/home/saitaa0b/wikiart/Impressionism/joaquã­n-sorolla_landscape-with-figure.jpg due to error: [Errno 2] No such file or directory: '/ibex/user/saitaa0b/wikiart/Impressionism/joaquã\\xadn-sorolla_landscape-with-figure.jpg'\n",
      "[Skipped] ../../../../ibex/ai/home/saitaa0b/wikiart/Impressionism/joaquã­n-sorolla_landscape-with-figure.jpg due to error: [Errno 2] No such file or directory: '/ibex/user/saitaa0b/wikiart/Impressionism/joaquã\\xadn-sorolla_landscape-with-figure.jpg'\n",
      "[Skipped] ../../../../ibex/ai/home/saitaa0b/wikiart/Impressionism/joaquã­n-sorolla_landscape-with-figure.jpg due to error: [Errno 2] No such file or directory: '/ibex/user/saitaa0b/wikiart/Impressionism/joaquã\\xadn-sorolla_landscape-with-figure.jpg'\n",
      "[Skipped] ../../../../ibex/ai/home/saitaa0b/wikiart/Impressionism/joaquã­n-sorolla_landscape-with-figure.jpg due to error: [Errno 2] No such file or directory: '/ibex/user/saitaa0b/wikiart/Impressionism/joaquã\\xadn-sorolla_landscape-with-figure.jpg'\n",
      "[Skipped] ../../../../ibex/ai/home/saitaa0b/wikiart/Impressionism/joaquã­n-sorolla_landscape-with-figure.jpg due to error: [Errno 2] No such file or directory: '/ibex/user/saitaa0b/wikiart/Impressionism/joaquã\\xadn-sorolla_landscape-with-figure.jpg'\n"
     ]
    },
    {
     "name": "stderr",
     "output_type": "stream",
     "text": [
      "Generating captions:  17%|█▋        | 5000/29061 [2:17:38<11:37:08,  1.74s/it]"
     ]
    },
    {
     "name": "stdout",
     "output_type": "stream",
     "text": [
      "Saved chunk at 5000 examples\n"
     ]
    },
    {
     "name": "stderr",
     "output_type": "stream",
     "text": [
      "Generating captions:  21%|██        | 6026/29061 [2:45:54<10:54:43,  1.71s/it]"
     ]
    },
    {
     "name": "stdout",
     "output_type": "stream",
     "text": [
      "[Skipped] ../../../../ibex/ai/home/saitaa0b/wikiart/Naive_Art_Primitivism/grã©goire-michonze_scene-paysanne.jpg due to error: [Errno 2] No such file or directory: '/ibex/user/saitaa0b/wikiart/Naive_Art_Primitivism/grã©goire-michonze_scene-paysanne.jpg'\n",
      "[Skipped] ../../../../ibex/ai/home/saitaa0b/wikiart/Naive_Art_Primitivism/grã©goire-michonze_scene-paysanne.jpg due to error: [Errno 2] No such file or directory: '/ibex/user/saitaa0b/wikiart/Naive_Art_Primitivism/grã©goire-michonze_scene-paysanne.jpg'\n",
      "[Skipped] ../../../../ibex/ai/home/saitaa0b/wikiart/Naive_Art_Primitivism/grã©goire-michonze_scene-paysanne.jpg due to error: [Errno 2] No such file or directory: '/ibex/user/saitaa0b/wikiart/Naive_Art_Primitivism/grã©goire-michonze_scene-paysanne.jpg'\n",
      "[Skipped] ../../../../ibex/ai/home/saitaa0b/wikiart/Naive_Art_Primitivism/grã©goire-michonze_scene-paysanne.jpg due to error: [Errno 2] No such file or directory: '/ibex/user/saitaa0b/wikiart/Naive_Art_Primitivism/grã©goire-michonze_scene-paysanne.jpg'\n",
      "[Skipped] ../../../../ibex/ai/home/saitaa0b/wikiart/Naive_Art_Primitivism/grã©goire-michonze_scene-paysanne.jpg due to error: [Errno 2] No such file or directory: '/ibex/user/saitaa0b/wikiart/Naive_Art_Primitivism/grã©goire-michonze_scene-paysanne.jpg'\n"
     ]
    },
    {
     "name": "stderr",
     "output_type": "stream",
     "text": [
      "Generating captions:  21%|██        | 6110/29061 [2:48:08<9:57:22,  1.56s/it] "
     ]
    },
    {
     "name": "stdout",
     "output_type": "stream",
     "text": [
      "[Skipped] ../../../../ibex/ai/home/saitaa0b/wikiart/Baroque/mestre-ataã­de_nossa-senhora-do-carmo-e-s-o-sim-o-stock.jpg due to error: [Errno 2] No such file or directory: '/ibex/user/saitaa0b/wikiart/Baroque/mestre-ataã\\xadde_nossa-senhora-do-carmo-e-s-o-sim-o-stock.jpg'\n",
      "[Skipped] ../../../../ibex/ai/home/saitaa0b/wikiart/Baroque/mestre-ataã­de_nossa-senhora-do-carmo-e-s-o-sim-o-stock.jpg due to error: [Errno 2] No such file or directory: '/ibex/user/saitaa0b/wikiart/Baroque/mestre-ataã\\xadde_nossa-senhora-do-carmo-e-s-o-sim-o-stock.jpg'\n",
      "[Skipped] ../../../../ibex/ai/home/saitaa0b/wikiart/Baroque/mestre-ataã­de_nossa-senhora-do-carmo-e-s-o-sim-o-stock.jpg due to error: [Errno 2] No such file or directory: '/ibex/user/saitaa0b/wikiart/Baroque/mestre-ataã\\xadde_nossa-senhora-do-carmo-e-s-o-sim-o-stock.jpg'\n",
      "[Skipped] ../../../../ibex/ai/home/saitaa0b/wikiart/Baroque/mestre-ataã­de_nossa-senhora-do-carmo-e-s-o-sim-o-stock.jpg due to error: [Errno 2] No such file or directory: '/ibex/user/saitaa0b/wikiart/Baroque/mestre-ataã\\xadde_nossa-senhora-do-carmo-e-s-o-sim-o-stock.jpg'\n",
      "[Skipped] ../../../../ibex/ai/home/saitaa0b/wikiart/Baroque/mestre-ataã­de_nossa-senhora-do-carmo-e-s-o-sim-o-stock.jpg due to error: [Errno 2] No such file or directory: '/ibex/user/saitaa0b/wikiart/Baroque/mestre-ataã\\xadde_nossa-senhora-do-carmo-e-s-o-sim-o-stock.jpg'\n"
     ]
    },
    {
     "name": "stderr",
     "output_type": "stream",
     "text": [
      "Generating captions:  21%|██▏       | 6202/29061 [2:50:30<11:25:35,  1.80s/it]"
     ]
    },
    {
     "name": "stdout",
     "output_type": "stream",
     "text": [
      "[Skipped] ../../../../ibex/ai/home/saitaa0b/wikiart/Symbolism/arnold-bã¶cklin_venus-genitrix.jpg due to error: [Errno 2] No such file or directory: '/ibex/user/saitaa0b/wikiart/Symbolism/arnold-bã¶cklin_venus-genitrix.jpg'\n",
      "[Skipped] ../../../../ibex/ai/home/saitaa0b/wikiart/Symbolism/arnold-bã¶cklin_venus-genitrix.jpg due to error: [Errno 2] No such file or directory: '/ibex/user/saitaa0b/wikiart/Symbolism/arnold-bã¶cklin_venus-genitrix.jpg'\n",
      "[Skipped] ../../../../ibex/ai/home/saitaa0b/wikiart/Symbolism/arnold-bã¶cklin_venus-genitrix.jpg due to error: [Errno 2] No such file or directory: '/ibex/user/saitaa0b/wikiart/Symbolism/arnold-bã¶cklin_venus-genitrix.jpg'\n",
      "[Skipped] ../../../../ibex/ai/home/saitaa0b/wikiart/Symbolism/arnold-bã¶cklin_venus-genitrix.jpg due to error: [Errno 2] No such file or directory: '/ibex/user/saitaa0b/wikiart/Symbolism/arnold-bã¶cklin_venus-genitrix.jpg'\n",
      "[Skipped] ../../../../ibex/ai/home/saitaa0b/wikiart/Symbolism/arnold-bã¶cklin_venus-genitrix.jpg due to error: [Errno 2] No such file or directory: '/ibex/user/saitaa0b/wikiart/Symbolism/arnold-bã¶cklin_venus-genitrix.jpg'\n"
     ]
    },
    {
     "name": "stderr",
     "output_type": "stream",
     "text": [
      "Generating captions:  24%|██▎       | 6843/29061 [3:08:25<11:27:38,  1.86s/it]"
     ]
    },
    {
     "name": "stdout",
     "output_type": "stream",
     "text": [
      "[Skipped] ../../../../ibex/ai/home/saitaa0b/wikiart/Symbolism/arnold-bã¶cklin_the-lamentations-of-mary-magdalene-on-the-body-of-christ-1868.jpg due to error: [Errno 2] No such file or directory: '/ibex/user/saitaa0b/wikiart/Symbolism/arnold-bã¶cklin_the-lamentations-of-mary-magdalene-on-the-body-of-christ-1868.jpg'\n",
      "[Skipped] ../../../../ibex/ai/home/saitaa0b/wikiart/Symbolism/arnold-bã¶cklin_the-lamentations-of-mary-magdalene-on-the-body-of-christ-1868.jpg due to error: [Errno 2] No such file or directory: '/ibex/user/saitaa0b/wikiart/Symbolism/arnold-bã¶cklin_the-lamentations-of-mary-magdalene-on-the-body-of-christ-1868.jpg'\n",
      "[Skipped] ../../../../ibex/ai/home/saitaa0b/wikiart/Symbolism/arnold-bã¶cklin_the-lamentations-of-mary-magdalene-on-the-body-of-christ-1868.jpg due to error: [Errno 2] No such file or directory: '/ibex/user/saitaa0b/wikiart/Symbolism/arnold-bã¶cklin_the-lamentations-of-mary-magdalene-on-the-body-of-christ-1868.jpg'\n",
      "[Skipped] ../../../../ibex/ai/home/saitaa0b/wikiart/Symbolism/arnold-bã¶cklin_the-lamentations-of-mary-magdalene-on-the-body-of-christ-1868.jpg due to error: [Errno 2] No such file or directory: '/ibex/user/saitaa0b/wikiart/Symbolism/arnold-bã¶cklin_the-lamentations-of-mary-magdalene-on-the-body-of-christ-1868.jpg'\n",
      "[Skipped] ../../../../ibex/ai/home/saitaa0b/wikiart/Symbolism/arnold-bã¶cklin_the-lamentations-of-mary-magdalene-on-the-body-of-christ-1868.jpg due to error: [Errno 2] No such file or directory: '/ibex/user/saitaa0b/wikiart/Symbolism/arnold-bã¶cklin_the-lamentations-of-mary-magdalene-on-the-body-of-christ-1868.jpg'\n"
     ]
    },
    {
     "name": "stderr",
     "output_type": "stream",
     "text": [
      "Generating captions:  24%|██▍       | 7088/29061 [3:15:10<11:51:20,  1.94s/it]"
     ]
    },
    {
     "name": "stdout",
     "output_type": "stream",
     "text": [
      "[Skipped] ../../../../ibex/ai/home/saitaa0b/wikiart/Impressionism/joaquã­n-sorolla_the-siesta-1912.jpg due to error: [Errno 2] No such file or directory: '/ibex/user/saitaa0b/wikiart/Impressionism/joaquã\\xadn-sorolla_the-siesta-1912.jpg'\n",
      "[Skipped] ../../../../ibex/ai/home/saitaa0b/wikiart/Impressionism/joaquã­n-sorolla_the-siesta-1912.jpg due to error: [Errno 2] No such file or directory: '/ibex/user/saitaa0b/wikiart/Impressionism/joaquã\\xadn-sorolla_the-siesta-1912.jpg'\n",
      "[Skipped] ../../../../ibex/ai/home/saitaa0b/wikiart/Impressionism/joaquã­n-sorolla_the-siesta-1912.jpg due to error: [Errno 2] No such file or directory: '/ibex/user/saitaa0b/wikiart/Impressionism/joaquã\\xadn-sorolla_the-siesta-1912.jpg'\n",
      "[Skipped] ../../../../ibex/ai/home/saitaa0b/wikiart/Impressionism/joaquã­n-sorolla_the-siesta-1912.jpg due to error: [Errno 2] No such file or directory: '/ibex/user/saitaa0b/wikiart/Impressionism/joaquã\\xadn-sorolla_the-siesta-1912.jpg'\n",
      "[Skipped] ../../../../ibex/ai/home/saitaa0b/wikiart/Impressionism/joaquã­n-sorolla_the-siesta-1912.jpg due to error: [Errno 2] No such file or directory: '/ibex/user/saitaa0b/wikiart/Impressionism/joaquã\\xadn-sorolla_the-siesta-1912.jpg'\n"
     ]
    },
    {
     "name": "stderr",
     "output_type": "stream",
     "text": [
      "Generating captions:  25%|██▌       | 7378/29061 [3:23:03<11:19:32,  1.88s/it]"
     ]
    },
    {
     "name": "stdout",
     "output_type": "stream",
     "text": [
      "[Skipped] ../../../../ibex/ai/home/saitaa0b/wikiart/Naive_Art_Primitivism/grã©goire-michonze_women-and-birds.jpg due to error: [Errno 2] No such file or directory: '/ibex/user/saitaa0b/wikiart/Naive_Art_Primitivism/grã©goire-michonze_women-and-birds.jpg'\n",
      "[Skipped] ../../../../ibex/ai/home/saitaa0b/wikiart/Naive_Art_Primitivism/grã©goire-michonze_women-and-birds.jpg due to error: [Errno 2] No such file or directory: '/ibex/user/saitaa0b/wikiart/Naive_Art_Primitivism/grã©goire-michonze_women-and-birds.jpg'\n",
      "[Skipped] ../../../../ibex/ai/home/saitaa0b/wikiart/Naive_Art_Primitivism/grã©goire-michonze_women-and-birds.jpg due to error: [Errno 2] No such file or directory: '/ibex/user/saitaa0b/wikiart/Naive_Art_Primitivism/grã©goire-michonze_women-and-birds.jpg'\n",
      "[Skipped] ../../../../ibex/ai/home/saitaa0b/wikiart/Naive_Art_Primitivism/grã©goire-michonze_women-and-birds.jpg due to error: [Errno 2] No such file or directory: '/ibex/user/saitaa0b/wikiart/Naive_Art_Primitivism/grã©goire-michonze_women-and-birds.jpg'\n",
      "[Skipped] ../../../../ibex/ai/home/saitaa0b/wikiart/Naive_Art_Primitivism/grã©goire-michonze_women-and-birds.jpg due to error: [Errno 2] No such file or directory: '/ibex/user/saitaa0b/wikiart/Naive_Art_Primitivism/grã©goire-michonze_women-and-birds.jpg'\n"
     ]
    },
    {
     "name": "stderr",
     "output_type": "stream",
     "text": [
      "Generating captions:  28%|██▊       | 8230/29061 [3:46:16<8:09:13,  1.41s/it] "
     ]
    },
    {
     "name": "stdout",
     "output_type": "stream",
     "text": [
      "[Skipped] ../../../../ibex/ai/home/saitaa0b/wikiart/Realism/antã³nio-de-carvalho-da-silva-porto_moinho-do-estev-o-alcochete-1887.jpg due to error: [Errno 2] No such file or directory: '/ibex/user/saitaa0b/wikiart/Realism/antã³nio-de-carvalho-da-silva-porto_moinho-do-estev-o-alcochete-1887.jpg'\n",
      "[Skipped] ../../../../ibex/ai/home/saitaa0b/wikiart/Realism/antã³nio-de-carvalho-da-silva-porto_moinho-do-estev-o-alcochete-1887.jpg due to error: [Errno 2] No such file or directory: '/ibex/user/saitaa0b/wikiart/Realism/antã³nio-de-carvalho-da-silva-porto_moinho-do-estev-o-alcochete-1887.jpg'\n",
      "[Skipped] ../../../../ibex/ai/home/saitaa0b/wikiart/Realism/antã³nio-de-carvalho-da-silva-porto_moinho-do-estev-o-alcochete-1887.jpg due to error: [Errno 2] No such file or directory: '/ibex/user/saitaa0b/wikiart/Realism/antã³nio-de-carvalho-da-silva-porto_moinho-do-estev-o-alcochete-1887.jpg'\n",
      "[Skipped] ../../../../ibex/ai/home/saitaa0b/wikiart/Realism/antã³nio-de-carvalho-da-silva-porto_moinho-do-estev-o-alcochete-1887.jpg due to error: [Errno 2] No such file or directory: '/ibex/user/saitaa0b/wikiart/Realism/antã³nio-de-carvalho-da-silva-porto_moinho-do-estev-o-alcochete-1887.jpg'\n",
      "[Skipped] ../../../../ibex/ai/home/saitaa0b/wikiart/Realism/antã³nio-de-carvalho-da-silva-porto_moinho-do-estev-o-alcochete-1887.jpg due to error: [Errno 2] No such file or directory: '/ibex/user/saitaa0b/wikiart/Realism/antã³nio-de-carvalho-da-silva-porto_moinho-do-estev-o-alcochete-1887.jpg'\n"
     ]
    },
    {
     "name": "stderr",
     "output_type": "stream",
     "text": [
      "Generating captions:  29%|██▉       | 8542/29061 [3:54:35<11:18:39,  1.98s/it]"
     ]
    },
    {
     "name": "stdout",
     "output_type": "stream",
     "text": [
      "[Skipped] ../../../../ibex/ai/home/saitaa0b/wikiart/Romanticism/ferdinand-georg-waldmã¼ller_dachstein-from-the-place-of-sophie-1835.jpg due to error: [Errno 2] No such file or directory: '/ibex/user/saitaa0b/wikiart/Romanticism/ferdinand-georg-waldmã¼ller_dachstein-from-the-place-of-sophie-1835.jpg'\n",
      "[Skipped] ../../../../ibex/ai/home/saitaa0b/wikiart/Romanticism/ferdinand-georg-waldmã¼ller_dachstein-from-the-place-of-sophie-1835.jpg due to error: [Errno 2] No such file or directory: '/ibex/user/saitaa0b/wikiart/Romanticism/ferdinand-georg-waldmã¼ller_dachstein-from-the-place-of-sophie-1835.jpg'\n",
      "[Skipped] ../../../../ibex/ai/home/saitaa0b/wikiart/Romanticism/ferdinand-georg-waldmã¼ller_dachstein-from-the-place-of-sophie-1835.jpg due to error: [Errno 2] No such file or directory: '/ibex/user/saitaa0b/wikiart/Romanticism/ferdinand-georg-waldmã¼ller_dachstein-from-the-place-of-sophie-1835.jpg'\n",
      "[Skipped] ../../../../ibex/ai/home/saitaa0b/wikiart/Romanticism/ferdinand-georg-waldmã¼ller_dachstein-from-the-place-of-sophie-1835.jpg due to error: [Errno 2] No such file or directory: '/ibex/user/saitaa0b/wikiart/Romanticism/ferdinand-georg-waldmã¼ller_dachstein-from-the-place-of-sophie-1835.jpg'\n",
      "[Skipped] ../../../../ibex/ai/home/saitaa0b/wikiart/Romanticism/ferdinand-georg-waldmã¼ller_dachstein-from-the-place-of-sophie-1835.jpg due to error: [Errno 2] No such file or directory: '/ibex/user/saitaa0b/wikiart/Romanticism/ferdinand-georg-waldmã¼ller_dachstein-from-the-place-of-sophie-1835.jpg'\n"
     ]
    },
    {
     "name": "stderr",
     "output_type": "stream",
     "text": [
      "Generating captions:  30%|███       | 8808/29061 [4:01:51<10:33:39,  1.88s/it]"
     ]
    },
    {
     "name": "stdout",
     "output_type": "stream",
     "text": [
      "[Skipped] ../../../../ibex/ai/home/saitaa0b/wikiart/Symbolism/arnold-bã¶cklin_the-spring-of-love.jpg due to error: [Errno 2] No such file or directory: '/ibex/user/saitaa0b/wikiart/Symbolism/arnold-bã¶cklin_the-spring-of-love.jpg'\n",
      "[Skipped] ../../../../ibex/ai/home/saitaa0b/wikiart/Symbolism/arnold-bã¶cklin_the-spring-of-love.jpg due to error: [Errno 2] No such file or directory: '/ibex/user/saitaa0b/wikiart/Symbolism/arnold-bã¶cklin_the-spring-of-love.jpg'\n",
      "[Skipped] ../../../../ibex/ai/home/saitaa0b/wikiart/Symbolism/arnold-bã¶cklin_the-spring-of-love.jpg due to error: [Errno 2] No such file or directory: '/ibex/user/saitaa0b/wikiart/Symbolism/arnold-bã¶cklin_the-spring-of-love.jpg'\n",
      "[Skipped] ../../../../ibex/ai/home/saitaa0b/wikiart/Symbolism/arnold-bã¶cklin_the-spring-of-love.jpg due to error: [Errno 2] No such file or directory: '/ibex/user/saitaa0b/wikiart/Symbolism/arnold-bã¶cklin_the-spring-of-love.jpg'\n",
      "[Skipped] ../../../../ibex/ai/home/saitaa0b/wikiart/Symbolism/arnold-bã¶cklin_the-spring-of-love.jpg due to error: [Errno 2] No such file or directory: '/ibex/user/saitaa0b/wikiart/Symbolism/arnold-bã¶cklin_the-spring-of-love.jpg'\n"
     ]
    },
    {
     "name": "stderr",
     "output_type": "stream",
     "text": [
      "Generating captions:  32%|███▏      | 9363/29061 [4:16:49<9:34:46,  1.75s/it] "
     ]
    },
    {
     "name": "stdout",
     "output_type": "stream",
     "text": [
      "[Skipped] ../../../../ibex/ai/home/saitaa0b/wikiart/Romanticism/ferdinand-georg-waldmã¼ller_view-to-m-dling(1).jpg due to error: [Errno 2] No such file or directory: '/ibex/user/saitaa0b/wikiart/Romanticism/ferdinand-georg-waldmã¼ller_view-to-m-dling(1).jpg'\n",
      "[Skipped] ../../../../ibex/ai/home/saitaa0b/wikiart/Romanticism/ferdinand-georg-waldmã¼ller_view-to-m-dling(1).jpg due to error: [Errno 2] No such file or directory: '/ibex/user/saitaa0b/wikiart/Romanticism/ferdinand-georg-waldmã¼ller_view-to-m-dling(1).jpg'\n",
      "[Skipped] ../../../../ibex/ai/home/saitaa0b/wikiart/Romanticism/ferdinand-georg-waldmã¼ller_view-to-m-dling(1).jpg due to error: [Errno 2] No such file or directory: '/ibex/user/saitaa0b/wikiart/Romanticism/ferdinand-georg-waldmã¼ller_view-to-m-dling(1).jpg'\n",
      "[Skipped] ../../../../ibex/ai/home/saitaa0b/wikiart/Romanticism/ferdinand-georg-waldmã¼ller_view-to-m-dling(1).jpg due to error: [Errno 2] No such file or directory: '/ibex/user/saitaa0b/wikiart/Romanticism/ferdinand-georg-waldmã¼ller_view-to-m-dling(1).jpg'\n",
      "[Skipped] ../../../../ibex/ai/home/saitaa0b/wikiart/Romanticism/ferdinand-georg-waldmã¼ller_view-to-m-dling(1).jpg due to error: [Errno 2] No such file or directory: '/ibex/user/saitaa0b/wikiart/Romanticism/ferdinand-georg-waldmã¼ller_view-to-m-dling(1).jpg'\n"
     ]
    },
    {
     "name": "stderr",
     "output_type": "stream",
     "text": [
      "Generating captions:  32%|███▏      | 9413/29061 [4:17:58<7:53:34,  1.45s/it]"
     ]
    },
    {
     "name": "stdout",
     "output_type": "stream",
     "text": [
      "[Skipped] ../../../../ibex/ai/home/saitaa0b/wikiart/Impressionism/joaquã­n-sorolla_benito-perez-galdos-1894.jpg due to error: [Errno 2] No such file or directory: '/ibex/user/saitaa0b/wikiart/Impressionism/joaquã\\xadn-sorolla_benito-perez-galdos-1894.jpg'\n",
      "[Skipped] ../../../../ibex/ai/home/saitaa0b/wikiart/Impressionism/joaquã­n-sorolla_benito-perez-galdos-1894.jpg due to error: [Errno 2] No such file or directory: '/ibex/user/saitaa0b/wikiart/Impressionism/joaquã\\xadn-sorolla_benito-perez-galdos-1894.jpg'\n",
      "[Skipped] ../../../../ibex/ai/home/saitaa0b/wikiart/Impressionism/joaquã­n-sorolla_benito-perez-galdos-1894.jpg due to error: [Errno 2] No such file or directory: '/ibex/user/saitaa0b/wikiart/Impressionism/joaquã\\xadn-sorolla_benito-perez-galdos-1894.jpg'\n",
      "[Skipped] ../../../../ibex/ai/home/saitaa0b/wikiart/Impressionism/joaquã­n-sorolla_benito-perez-galdos-1894.jpg due to error: [Errno 2] No such file or directory: '/ibex/user/saitaa0b/wikiart/Impressionism/joaquã\\xadn-sorolla_benito-perez-galdos-1894.jpg'\n",
      "[Skipped] ../../../../ibex/ai/home/saitaa0b/wikiart/Impressionism/joaquã­n-sorolla_benito-perez-galdos-1894.jpg due to error: [Errno 2] No such file or directory: '/ibex/user/saitaa0b/wikiart/Impressionism/joaquã\\xadn-sorolla_benito-perez-galdos-1894.jpg'\n"
     ]
    },
    {
     "name": "stderr",
     "output_type": "stream",
     "text": [
      "Generating captions:  34%|███▍      | 10000/29061 [4:34:17<9:01:52,  1.71s/it]"
     ]
    },
    {
     "name": "stdout",
     "output_type": "stream",
     "text": [
      "Saved chunk at 10000 examples\n"
     ]
    },
    {
     "name": "stderr",
     "output_type": "stream",
     "text": [
      "Generating captions:  39%|███▉      | 11479/29061 [5:14:49<8:07:39,  1.66s/it] "
     ]
    },
    {
     "name": "stdout",
     "output_type": "stream",
     "text": [
      "[Skipped] ../../../../ibex/ai/home/saitaa0b/wikiart/Baroque/mestre-ataã­de_crucifixion-of-christ.jpg due to error: [Errno 2] No such file or directory: '/ibex/user/saitaa0b/wikiart/Baroque/mestre-ataã\\xadde_crucifixion-of-christ.jpg'\n",
      "[Skipped] ../../../../ibex/ai/home/saitaa0b/wikiart/Baroque/mestre-ataã­de_crucifixion-of-christ.jpg due to error: [Errno 2] No such file or directory: '/ibex/user/saitaa0b/wikiart/Baroque/mestre-ataã\\xadde_crucifixion-of-christ.jpg'\n",
      "[Skipped] ../../../../ibex/ai/home/saitaa0b/wikiart/Baroque/mestre-ataã­de_crucifixion-of-christ.jpg due to error: [Errno 2] No such file or directory: '/ibex/user/saitaa0b/wikiart/Baroque/mestre-ataã\\xadde_crucifixion-of-christ.jpg'\n"
     ]
    },
    {
     "name": "stderr",
     "output_type": "stream",
     "text": [
      "Generating captions:  41%|████      | 11858/29061 [5:25:00<7:30:08,  1.57s/it] "
     ]
    },
    {
     "name": "stdout",
     "output_type": "stream",
     "text": [
      "[Skipped] ../../../../ibex/ai/home/saitaa0b/wikiart/Art_Nouveau_Modern/eugã¨ne-grasset_jalousie.jpg due to error: [Errno 2] No such file or directory: '/ibex/user/saitaa0b/wikiart/Art_Nouveau_Modern/eugã¨ne-grasset_jalousie.jpg'\n",
      "[Skipped] ../../../../ibex/ai/home/saitaa0b/wikiart/Art_Nouveau_Modern/eugã¨ne-grasset_jalousie.jpg due to error: [Errno 2] No such file or directory: '/ibex/user/saitaa0b/wikiart/Art_Nouveau_Modern/eugã¨ne-grasset_jalousie.jpg'\n",
      "[Skipped] ../../../../ibex/ai/home/saitaa0b/wikiart/Art_Nouveau_Modern/eugã¨ne-grasset_jalousie.jpg due to error: [Errno 2] No such file or directory: '/ibex/user/saitaa0b/wikiart/Art_Nouveau_Modern/eugã¨ne-grasset_jalousie.jpg'\n",
      "[Skipped] ../../../../ibex/ai/home/saitaa0b/wikiart/Art_Nouveau_Modern/eugã¨ne-grasset_jalousie.jpg due to error: [Errno 2] No such file or directory: '/ibex/user/saitaa0b/wikiart/Art_Nouveau_Modern/eugã¨ne-grasset_jalousie.jpg'\n",
      "[Skipped] ../../../../ibex/ai/home/saitaa0b/wikiart/Art_Nouveau_Modern/eugã¨ne-grasset_jalousie.jpg due to error: [Errno 2] No such file or directory: '/ibex/user/saitaa0b/wikiart/Art_Nouveau_Modern/eugã¨ne-grasset_jalousie.jpg'\n"
     ]
    },
    {
     "name": "stderr",
     "output_type": "stream",
     "text": [
      "Generating captions:  43%|████▎     | 12403/29061 [5:39:46<8:03:03,  1.74s/it] "
     ]
    },
    {
     "name": "stdout",
     "output_type": "stream",
     "text": [
      "[Skipped] ../../../../ibex/ai/home/saitaa0b/wikiart/Impressionism/joaquã­n-sorolla_children-on-the-seashore-1903.jpg due to error: [Errno 2] No such file or directory: '/ibex/user/saitaa0b/wikiart/Impressionism/joaquã\\xadn-sorolla_children-on-the-seashore-1903.jpg'\n",
      "[Skipped] ../../../../ibex/ai/home/saitaa0b/wikiart/Impressionism/joaquã­n-sorolla_children-on-the-seashore-1903.jpg due to error: [Errno 2] No such file or directory: '/ibex/user/saitaa0b/wikiart/Impressionism/joaquã\\xadn-sorolla_children-on-the-seashore-1903.jpg'\n",
      "[Skipped] ../../../../ibex/ai/home/saitaa0b/wikiart/Impressionism/joaquã­n-sorolla_children-on-the-seashore-1903.jpg due to error: [Errno 2] No such file or directory: '/ibex/user/saitaa0b/wikiart/Impressionism/joaquã\\xadn-sorolla_children-on-the-seashore-1903.jpg'\n",
      "[Skipped] ../../../../ibex/ai/home/saitaa0b/wikiart/Impressionism/joaquã­n-sorolla_children-on-the-seashore-1903.jpg due to error: [Errno 2] No such file or directory: '/ibex/user/saitaa0b/wikiart/Impressionism/joaquã\\xadn-sorolla_children-on-the-seashore-1903.jpg'\n",
      "[Skipped] ../../../../ibex/ai/home/saitaa0b/wikiart/Impressionism/joaquã­n-sorolla_children-on-the-seashore-1903.jpg due to error: [Errno 2] No such file or directory: '/ibex/user/saitaa0b/wikiart/Impressionism/joaquã\\xadn-sorolla_children-on-the-seashore-1903.jpg'\n"
     ]
    },
    {
     "name": "stderr",
     "output_type": "stream",
     "text": [
      "Generating captions:  45%|████▌     | 13165/29061 [6:00:28<7:57:33,  1.80s/it] "
     ]
    },
    {
     "name": "stdout",
     "output_type": "stream",
     "text": [
      "[Skipped] ../../../../ibex/ai/home/saitaa0b/wikiart/Impressionism/joaquã­n-sorolla_swimmers-javea-1905.jpg due to error: [Errno 2] No such file or directory: '/ibex/user/saitaa0b/wikiart/Impressionism/joaquã\\xadn-sorolla_swimmers-javea-1905.jpg'\n",
      "[Skipped] ../../../../ibex/ai/home/saitaa0b/wikiart/Impressionism/joaquã­n-sorolla_swimmers-javea-1905.jpg due to error: [Errno 2] No such file or directory: '/ibex/user/saitaa0b/wikiart/Impressionism/joaquã\\xadn-sorolla_swimmers-javea-1905.jpg'\n",
      "[Skipped] ../../../../ibex/ai/home/saitaa0b/wikiart/Impressionism/joaquã­n-sorolla_swimmers-javea-1905.jpg due to error: [Errno 2] No such file or directory: '/ibex/user/saitaa0b/wikiart/Impressionism/joaquã\\xadn-sorolla_swimmers-javea-1905.jpg'\n",
      "[Skipped] ../../../../ibex/ai/home/saitaa0b/wikiart/Impressionism/joaquã­n-sorolla_swimmers-javea-1905.jpg due to error: [Errno 2] No such file or directory: '/ibex/user/saitaa0b/wikiart/Impressionism/joaquã\\xadn-sorolla_swimmers-javea-1905.jpg'\n",
      "[Skipped] ../../../../ibex/ai/home/saitaa0b/wikiart/Impressionism/joaquã­n-sorolla_swimmers-javea-1905.jpg due to error: [Errno 2] No such file or directory: '/ibex/user/saitaa0b/wikiart/Impressionism/joaquã\\xadn-sorolla_swimmers-javea-1905.jpg'\n"
     ]
    },
    {
     "name": "stderr",
     "output_type": "stream",
     "text": [
      "Generating captions:  48%|████▊     | 13943/29061 [6:21:39<5:25:12,  1.29s/it]"
     ]
    },
    {
     "name": "stdout",
     "output_type": "stream",
     "text": [
      "[Skipped] ../../../../ibex/ai/home/saitaa0b/wikiart/Art_Nouveau_Modern/eugã¨ne-grasset_harper-s-magazine.jpg due to error: [Errno 2] No such file or directory: '/ibex/user/saitaa0b/wikiart/Art_Nouveau_Modern/eugã¨ne-grasset_harper-s-magazine.jpg'\n",
      "[Skipped] ../../../../ibex/ai/home/saitaa0b/wikiart/Art_Nouveau_Modern/eugã¨ne-grasset_harper-s-magazine.jpg due to error: [Errno 2] No such file or directory: '/ibex/user/saitaa0b/wikiart/Art_Nouveau_Modern/eugã¨ne-grasset_harper-s-magazine.jpg'\n",
      "[Skipped] ../../../../ibex/ai/home/saitaa0b/wikiart/Art_Nouveau_Modern/eugã¨ne-grasset_harper-s-magazine.jpg due to error: [Errno 2] No such file or directory: '/ibex/user/saitaa0b/wikiart/Art_Nouveau_Modern/eugã¨ne-grasset_harper-s-magazine.jpg'\n",
      "[Skipped] ../../../../ibex/ai/home/saitaa0b/wikiart/Art_Nouveau_Modern/eugã¨ne-grasset_harper-s-magazine.jpg due to error: [Errno 2] No such file or directory: '/ibex/user/saitaa0b/wikiart/Art_Nouveau_Modern/eugã¨ne-grasset_harper-s-magazine.jpg'\n",
      "[Skipped] ../../../../ibex/ai/home/saitaa0b/wikiart/Art_Nouveau_Modern/eugã¨ne-grasset_harper-s-magazine.jpg due to error: [Errno 2] No such file or directory: '/ibex/user/saitaa0b/wikiart/Art_Nouveau_Modern/eugã¨ne-grasset_harper-s-magazine.jpg'\n"
     ]
    },
    {
     "name": "stderr",
     "output_type": "stream",
     "text": [
      "Generating captions:  48%|████▊     | 13988/29061 [6:22:47<6:43:44,  1.61s/it]"
     ]
    },
    {
     "name": "stdout",
     "output_type": "stream",
     "text": [
      "[Skipped] ../../../../ibex/ai/home/saitaa0b/wikiart/Symbolism/arnold-bã¶cklin_prometheus-1883.jpg due to error: [Errno 2] No such file or directory: '/ibex/user/saitaa0b/wikiart/Symbolism/arnold-bã¶cklin_prometheus-1883.jpg'\n",
      "[Skipped] ../../../../ibex/ai/home/saitaa0b/wikiart/Symbolism/arnold-bã¶cklin_prometheus-1883.jpg due to error: [Errno 2] No such file or directory: '/ibex/user/saitaa0b/wikiart/Symbolism/arnold-bã¶cklin_prometheus-1883.jpg'\n",
      "[Skipped] ../../../../ibex/ai/home/saitaa0b/wikiart/Symbolism/arnold-bã¶cklin_prometheus-1883.jpg due to error: [Errno 2] No such file or directory: '/ibex/user/saitaa0b/wikiart/Symbolism/arnold-bã¶cklin_prometheus-1883.jpg'\n",
      "[Skipped] ../../../../ibex/ai/home/saitaa0b/wikiart/Symbolism/arnold-bã¶cklin_prometheus-1883.jpg due to error: [Errno 2] No such file or directory: '/ibex/user/saitaa0b/wikiart/Symbolism/arnold-bã¶cklin_prometheus-1883.jpg'\n",
      "[Skipped] ../../../../ibex/ai/home/saitaa0b/wikiart/Symbolism/arnold-bã¶cklin_prometheus-1883.jpg due to error: [Errno 2] No such file or directory: '/ibex/user/saitaa0b/wikiart/Symbolism/arnold-bã¶cklin_prometheus-1883.jpg'\n"
     ]
    },
    {
     "name": "stderr",
     "output_type": "stream",
     "text": [
      "Generating captions:  48%|████▊     | 14062/29061 [6:24:41<7:21:41,  1.77s/it]"
     ]
    },
    {
     "name": "stdout",
     "output_type": "stream",
     "text": [
      "[Skipped] ../../../../ibex/ai/home/saitaa0b/wikiart/Impressionism/joaquã­n-sorolla_the-white-boat-javea-1905.jpg due to error: [Errno 2] No such file or directory: '/ibex/user/saitaa0b/wikiart/Impressionism/joaquã\\xadn-sorolla_the-white-boat-javea-1905.jpg'\n",
      "[Skipped] ../../../../ibex/ai/home/saitaa0b/wikiart/Impressionism/joaquã­n-sorolla_the-white-boat-javea-1905.jpg due to error: [Errno 2] No such file or directory: '/ibex/user/saitaa0b/wikiart/Impressionism/joaquã\\xadn-sorolla_the-white-boat-javea-1905.jpg'\n",
      "[Skipped] ../../../../ibex/ai/home/saitaa0b/wikiart/Impressionism/joaquã­n-sorolla_the-white-boat-javea-1905.jpg due to error: [Errno 2] No such file or directory: '/ibex/user/saitaa0b/wikiart/Impressionism/joaquã\\xadn-sorolla_the-white-boat-javea-1905.jpg'\n",
      "[Skipped] ../../../../ibex/ai/home/saitaa0b/wikiart/Impressionism/joaquã­n-sorolla_the-white-boat-javea-1905.jpg due to error: [Errno 2] No such file or directory: '/ibex/user/saitaa0b/wikiart/Impressionism/joaquã\\xadn-sorolla_the-white-boat-javea-1905.jpg'\n",
      "[Skipped] ../../../../ibex/ai/home/saitaa0b/wikiart/Impressionism/joaquã­n-sorolla_the-white-boat-javea-1905.jpg due to error: [Errno 2] No such file or directory: '/ibex/user/saitaa0b/wikiart/Impressionism/joaquã\\xadn-sorolla_the-white-boat-javea-1905.jpg'\n"
     ]
    },
    {
     "name": "stderr",
     "output_type": "stream",
     "text": [
      "Generating captions:  50%|█████     | 14595/29061 [6:39:09<6:26:55,  1.60s/it]"
     ]
    },
    {
     "name": "stdout",
     "output_type": "stream",
     "text": [
      "[Skipped] ../../../../ibex/ai/home/saitaa0b/wikiart/Impressionism/joaquã­n-sorolla_the-christening-1899.jpg due to error: [Errno 2] No such file or directory: '/ibex/user/saitaa0b/wikiart/Impressionism/joaquã\\xadn-sorolla_the-christening-1899.jpg'\n",
      "[Skipped] ../../../../ibex/ai/home/saitaa0b/wikiart/Impressionism/joaquã­n-sorolla_the-christening-1899.jpg due to error: [Errno 2] No such file or directory: '/ibex/user/saitaa0b/wikiart/Impressionism/joaquã\\xadn-sorolla_the-christening-1899.jpg'\n",
      "[Skipped] ../../../../ibex/ai/home/saitaa0b/wikiart/Impressionism/joaquã­n-sorolla_the-christening-1899.jpg due to error: [Errno 2] No such file or directory: '/ibex/user/saitaa0b/wikiart/Impressionism/joaquã\\xadn-sorolla_the-christening-1899.jpg'\n",
      "[Skipped] ../../../../ibex/ai/home/saitaa0b/wikiart/Impressionism/joaquã­n-sorolla_the-christening-1899.jpg due to error: [Errno 2] No such file or directory: '/ibex/user/saitaa0b/wikiart/Impressionism/joaquã\\xadn-sorolla_the-christening-1899.jpg'\n",
      "[Skipped] ../../../../ibex/ai/home/saitaa0b/wikiart/Impressionism/joaquã­n-sorolla_the-christening-1899.jpg due to error: [Errno 2] No such file or directory: '/ibex/user/saitaa0b/wikiart/Impressionism/joaquã\\xadn-sorolla_the-christening-1899.jpg'\n"
     ]
    },
    {
     "name": "stderr",
     "output_type": "stream",
     "text": [
      "Generating captions:  52%|█████▏    | 15000/29061 [6:50:26<6:54:02,  1.77s/it]"
     ]
    },
    {
     "name": "stdout",
     "output_type": "stream",
     "text": [
      "Saved chunk at 15000 examples\n"
     ]
    },
    {
     "name": "stderr",
     "output_type": "stream",
     "text": [
      "Generating captions:  52%|█████▏    | 15069/29061 [6:52:29<6:36:36,  1.70s/it]"
     ]
    },
    {
     "name": "stdout",
     "output_type": "stream",
     "text": [
      "[Skipped] ../../../../ibex/ai/home/saitaa0b/wikiart/Impressionism/joaquã­n-sorolla_mother-1895.jpg due to error: [Errno 2] No such file or directory: '/ibex/user/saitaa0b/wikiart/Impressionism/joaquã\\xadn-sorolla_mother-1895.jpg'\n",
      "[Skipped] ../../../../ibex/ai/home/saitaa0b/wikiart/Impressionism/joaquã­n-sorolla_mother-1895.jpg due to error: [Errno 2] No such file or directory: '/ibex/user/saitaa0b/wikiart/Impressionism/joaquã\\xadn-sorolla_mother-1895.jpg'\n",
      "[Skipped] ../../../../ibex/ai/home/saitaa0b/wikiart/Impressionism/joaquã­n-sorolla_mother-1895.jpg due to error: [Errno 2] No such file or directory: '/ibex/user/saitaa0b/wikiart/Impressionism/joaquã\\xadn-sorolla_mother-1895.jpg'\n",
      "[Skipped] ../../../../ibex/ai/home/saitaa0b/wikiart/Impressionism/joaquã­n-sorolla_mother-1895.jpg due to error: [Errno 2] No such file or directory: '/ibex/user/saitaa0b/wikiart/Impressionism/joaquã\\xadn-sorolla_mother-1895.jpg'\n",
      "[Skipped] ../../../../ibex/ai/home/saitaa0b/wikiart/Impressionism/joaquã­n-sorolla_mother-1895.jpg due to error: [Errno 2] No such file or directory: '/ibex/user/saitaa0b/wikiart/Impressionism/joaquã\\xadn-sorolla_mother-1895.jpg'\n"
     ]
    },
    {
     "name": "stderr",
     "output_type": "stream",
     "text": [
      "Generating captions:  52%|█████▏    | 15157/29061 [6:54:48<5:27:50,  1.41s/it]"
     ]
    },
    {
     "name": "stdout",
     "output_type": "stream",
     "text": [
      "[Skipped] ../../../../ibex/ai/home/saitaa0b/wikiart/Impressionism/joaquã­n-sorolla_calle-de-st-vicente-mallorca-1902.jpg due to error: [Errno 2] No such file or directory: '/ibex/user/saitaa0b/wikiart/Impressionism/joaquã\\xadn-sorolla_calle-de-st-vicente-mallorca-1902.jpg'\n",
      "[Skipped] ../../../../ibex/ai/home/saitaa0b/wikiart/Impressionism/joaquã­n-sorolla_calle-de-st-vicente-mallorca-1902.jpg due to error: [Errno 2] No such file or directory: '/ibex/user/saitaa0b/wikiart/Impressionism/joaquã\\xadn-sorolla_calle-de-st-vicente-mallorca-1902.jpg'\n",
      "[Skipped] ../../../../ibex/ai/home/saitaa0b/wikiart/Impressionism/joaquã­n-sorolla_calle-de-st-vicente-mallorca-1902.jpg due to error: [Errno 2] No such file or directory: '/ibex/user/saitaa0b/wikiart/Impressionism/joaquã\\xadn-sorolla_calle-de-st-vicente-mallorca-1902.jpg'\n",
      "[Skipped] ../../../../ibex/ai/home/saitaa0b/wikiart/Impressionism/joaquã­n-sorolla_calle-de-st-vicente-mallorca-1902.jpg due to error: [Errno 2] No such file or directory: '/ibex/user/saitaa0b/wikiart/Impressionism/joaquã\\xadn-sorolla_calle-de-st-vicente-mallorca-1902.jpg'\n",
      "[Skipped] ../../../../ibex/ai/home/saitaa0b/wikiart/Impressionism/joaquã­n-sorolla_calle-de-st-vicente-mallorca-1902.jpg due to error: [Errno 2] No such file or directory: '/ibex/user/saitaa0b/wikiart/Impressionism/joaquã\\xadn-sorolla_calle-de-st-vicente-mallorca-1902.jpg'\n"
     ]
    },
    {
     "name": "stderr",
     "output_type": "stream",
     "text": [
      "Generating captions:  52%|█████▏    | 15199/29061 [6:55:46<5:41:15,  1.48s/it]"
     ]
    },
    {
     "name": "stdout",
     "output_type": "stream",
     "text": [
      "[Skipped] ../../../../ibex/ai/home/saitaa0b/wikiart/Impressionism/joaquã­n-sorolla_midday-at-valencia-beach-1904.jpg due to error: [Errno 2] No such file or directory: '/ibex/user/saitaa0b/wikiart/Impressionism/joaquã\\xadn-sorolla_midday-at-valencia-beach-1904.jpg'\n",
      "[Skipped] ../../../../ibex/ai/home/saitaa0b/wikiart/Impressionism/joaquã­n-sorolla_midday-at-valencia-beach-1904.jpg due to error: [Errno 2] No such file or directory: '/ibex/user/saitaa0b/wikiart/Impressionism/joaquã\\xadn-sorolla_midday-at-valencia-beach-1904.jpg'\n",
      "[Skipped] ../../../../ibex/ai/home/saitaa0b/wikiart/Impressionism/joaquã­n-sorolla_midday-at-valencia-beach-1904.jpg due to error: [Errno 2] No such file or directory: '/ibex/user/saitaa0b/wikiart/Impressionism/joaquã\\xadn-sorolla_midday-at-valencia-beach-1904.jpg'\n",
      "[Skipped] ../../../../ibex/ai/home/saitaa0b/wikiart/Impressionism/joaquã­n-sorolla_midday-at-valencia-beach-1904.jpg due to error: [Errno 2] No such file or directory: '/ibex/user/saitaa0b/wikiart/Impressionism/joaquã\\xadn-sorolla_midday-at-valencia-beach-1904.jpg'\n",
      "[Skipped] ../../../../ibex/ai/home/saitaa0b/wikiart/Impressionism/joaquã­n-sorolla_midday-at-valencia-beach-1904.jpg due to error: [Errno 2] No such file or directory: '/ibex/user/saitaa0b/wikiart/Impressionism/joaquã\\xadn-sorolla_midday-at-valencia-beach-1904.jpg'\n"
     ]
    },
    {
     "name": "stderr",
     "output_type": "stream",
     "text": [
      "Generating captions:  53%|█████▎    | 15264/29061 [6:57:28<6:05:00,  1.59s/it]"
     ]
    },
    {
     "name": "stdout",
     "output_type": "stream",
     "text": [
      "[Skipped] ../../../../ibex/ai/home/saitaa0b/wikiart/Impressionism/joaquã­n-sorolla_portrait-of-king-alfonso.jpg due to error: [Errno 2] No such file or directory: '/ibex/user/saitaa0b/wikiart/Impressionism/joaquã\\xadn-sorolla_portrait-of-king-alfonso.jpg'\n",
      "[Skipped] ../../../../ibex/ai/home/saitaa0b/wikiart/Impressionism/joaquã­n-sorolla_portrait-of-king-alfonso.jpg due to error: [Errno 2] No such file or directory: '/ibex/user/saitaa0b/wikiart/Impressionism/joaquã\\xadn-sorolla_portrait-of-king-alfonso.jpg'\n",
      "[Skipped] ../../../../ibex/ai/home/saitaa0b/wikiart/Impressionism/joaquã­n-sorolla_portrait-of-king-alfonso.jpg due to error: [Errno 2] No such file or directory: '/ibex/user/saitaa0b/wikiart/Impressionism/joaquã\\xadn-sorolla_portrait-of-king-alfonso.jpg'\n",
      "[Skipped] ../../../../ibex/ai/home/saitaa0b/wikiart/Impressionism/joaquã­n-sorolla_portrait-of-king-alfonso.jpg due to error: [Errno 2] No such file or directory: '/ibex/user/saitaa0b/wikiart/Impressionism/joaquã\\xadn-sorolla_portrait-of-king-alfonso.jpg'\n",
      "[Skipped] ../../../../ibex/ai/home/saitaa0b/wikiart/Impressionism/joaquã­n-sorolla_portrait-of-king-alfonso.jpg due to error: [Errno 2] No such file or directory: '/ibex/user/saitaa0b/wikiart/Impressionism/joaquã\\xadn-sorolla_portrait-of-king-alfonso.jpg'\n"
     ]
    },
    {
     "name": "stderr",
     "output_type": "stream",
     "text": [
      "Generating captions:  54%|█████▎    | 15582/29061 [7:06:00<6:09:34,  1.65s/it]"
     ]
    },
    {
     "name": "stdout",
     "output_type": "stream",
     "text": [
      "[Skipped] ../../../../ibex/ai/home/saitaa0b/wikiart/Symbolism/arnold-bã¶cklin_girl-and-boy-picking-flowers-1866.jpg due to error: [Errno 2] No such file or directory: '/ibex/user/saitaa0b/wikiart/Symbolism/arnold-bã¶cklin_girl-and-boy-picking-flowers-1866.jpg'\n",
      "[Skipped] ../../../../ibex/ai/home/saitaa0b/wikiart/Symbolism/arnold-bã¶cklin_girl-and-boy-picking-flowers-1866.jpg due to error: [Errno 2] No such file or directory: '/ibex/user/saitaa0b/wikiart/Symbolism/arnold-bã¶cklin_girl-and-boy-picking-flowers-1866.jpg'\n",
      "[Skipped] ../../../../ibex/ai/home/saitaa0b/wikiart/Symbolism/arnold-bã¶cklin_girl-and-boy-picking-flowers-1866.jpg due to error: [Errno 2] No such file or directory: '/ibex/user/saitaa0b/wikiart/Symbolism/arnold-bã¶cklin_girl-and-boy-picking-flowers-1866.jpg'\n"
     ]
    },
    {
     "name": "stderr",
     "output_type": "stream",
     "text": [
      "Generating captions:  55%|█████▍    | 15872/29061 [7:14:19<6:38:00,  1.81s/it]"
     ]
    },
    {
     "name": "stdout",
     "output_type": "stream",
     "text": [
      "[Skipped] ../../../../ibex/ai/home/saitaa0b/wikiart/Romanticism/ferdinand-georg-waldmã¼ller_the-dachstein-1835.jpg due to error: [Errno 2] No such file or directory: '/ibex/user/saitaa0b/wikiart/Romanticism/ferdinand-georg-waldmã¼ller_the-dachstein-1835.jpg'\n",
      "[Skipped] ../../../../ibex/ai/home/saitaa0b/wikiart/Romanticism/ferdinand-georg-waldmã¼ller_the-dachstein-1835.jpg due to error: [Errno 2] No such file or directory: '/ibex/user/saitaa0b/wikiart/Romanticism/ferdinand-georg-waldmã¼ller_the-dachstein-1835.jpg'\n",
      "[Skipped] ../../../../ibex/ai/home/saitaa0b/wikiart/Romanticism/ferdinand-georg-waldmã¼ller_the-dachstein-1835.jpg due to error: [Errno 2] No such file or directory: '/ibex/user/saitaa0b/wikiart/Romanticism/ferdinand-georg-waldmã¼ller_the-dachstein-1835.jpg'\n",
      "[Skipped] ../../../../ibex/ai/home/saitaa0b/wikiart/Romanticism/ferdinand-georg-waldmã¼ller_the-dachstein-1835.jpg due to error: [Errno 2] No such file or directory: '/ibex/user/saitaa0b/wikiart/Romanticism/ferdinand-georg-waldmã¼ller_the-dachstein-1835.jpg'\n"
     ]
    },
    {
     "name": "stderr",
     "output_type": "stream",
     "text": [
      "Generating captions:  56%|█████▌    | 16333/29061 [7:27:30<6:01:12,  1.70s/it]"
     ]
    },
    {
     "name": "stdout",
     "output_type": "stream",
     "text": [
      "[Skipped] ../../../../ibex/ai/home/saitaa0b/wikiart/Art_Nouveau_Modern/eugã¨ne-grasset_tentation.jpg due to error: [Errno 2] No such file or directory: '/ibex/user/saitaa0b/wikiart/Art_Nouveau_Modern/eugã¨ne-grasset_tentation.jpg'\n",
      "[Skipped] ../../../../ibex/ai/home/saitaa0b/wikiart/Art_Nouveau_Modern/eugã¨ne-grasset_tentation.jpg due to error: [Errno 2] No such file or directory: '/ibex/user/saitaa0b/wikiart/Art_Nouveau_Modern/eugã¨ne-grasset_tentation.jpg'\n",
      "[Skipped] ../../../../ibex/ai/home/saitaa0b/wikiart/Art_Nouveau_Modern/eugã¨ne-grasset_tentation.jpg due to error: [Errno 2] No such file or directory: '/ibex/user/saitaa0b/wikiart/Art_Nouveau_Modern/eugã¨ne-grasset_tentation.jpg'\n"
     ]
    },
    {
     "name": "stderr",
     "output_type": "stream",
     "text": [
      "Generating captions:  58%|█████▊    | 16780/29061 [7:40:05<5:13:00,  1.53s/it]"
     ]
    },
    {
     "name": "stdout",
     "output_type": "stream",
     "text": [
      "[Skipped] ../../../../ibex/ai/home/saitaa0b/wikiart/Impressionism/joaquã­n-sorolla_rump-of-valencia-1906.jpg due to error: [Errno 2] No such file or directory: '/ibex/user/saitaa0b/wikiart/Impressionism/joaquã\\xadn-sorolla_rump-of-valencia-1906.jpg'\n",
      "[Skipped] ../../../../ibex/ai/home/saitaa0b/wikiart/Impressionism/joaquã­n-sorolla_rump-of-valencia-1906.jpg due to error: [Errno 2] No such file or directory: '/ibex/user/saitaa0b/wikiart/Impressionism/joaquã\\xadn-sorolla_rump-of-valencia-1906.jpg'\n",
      "[Skipped] ../../../../ibex/ai/home/saitaa0b/wikiart/Impressionism/joaquã­n-sorolla_rump-of-valencia-1906.jpg due to error: [Errno 2] No such file or directory: '/ibex/user/saitaa0b/wikiart/Impressionism/joaquã\\xadn-sorolla_rump-of-valencia-1906.jpg'\n",
      "[Skipped] ../../../../ibex/ai/home/saitaa0b/wikiart/Impressionism/joaquã­n-sorolla_rump-of-valencia-1906.jpg due to error: [Errno 2] No such file or directory: '/ibex/user/saitaa0b/wikiart/Impressionism/joaquã\\xadn-sorolla_rump-of-valencia-1906.jpg'\n",
      "[Skipped] ../../../../ibex/ai/home/saitaa0b/wikiart/Impressionism/joaquã­n-sorolla_rump-of-valencia-1906.jpg due to error: [Errno 2] No such file or directory: '/ibex/user/saitaa0b/wikiart/Impressionism/joaquã\\xadn-sorolla_rump-of-valencia-1906.jpg'\n"
     ]
    },
    {
     "name": "stderr",
     "output_type": "stream",
     "text": [
      "Generating captions:  58%|█████▊    | 16842/29061 [7:41:52<6:44:08,  1.98s/it]"
     ]
    },
    {
     "name": "stdout",
     "output_type": "stream",
     "text": [
      "[Skipped] ../../../../ibex/ai/home/saitaa0b/wikiart/Symbolism/arnold-bã¶cklin_the-penitent-mary-magdalene-1873.jpg due to error: [Errno 2] No such file or directory: '/ibex/user/saitaa0b/wikiart/Symbolism/arnold-bã¶cklin_the-penitent-mary-magdalene-1873.jpg'\n",
      "[Skipped] ../../../../ibex/ai/home/saitaa0b/wikiart/Symbolism/arnold-bã¶cklin_the-penitent-mary-magdalene-1873.jpg due to error: [Errno 2] No such file or directory: '/ibex/user/saitaa0b/wikiart/Symbolism/arnold-bã¶cklin_the-penitent-mary-magdalene-1873.jpg'\n",
      "[Skipped] ../../../../ibex/ai/home/saitaa0b/wikiart/Symbolism/arnold-bã¶cklin_the-penitent-mary-magdalene-1873.jpg due to error: [Errno 2] No such file or directory: '/ibex/user/saitaa0b/wikiart/Symbolism/arnold-bã¶cklin_the-penitent-mary-magdalene-1873.jpg'\n"
     ]
    },
    {
     "name": "stderr",
     "output_type": "stream",
     "text": [
      "Generating captions:  59%|█████▉    | 17227/29061 [7:52:23<5:38:57,  1.72s/it]"
     ]
    },
    {
     "name": "stdout",
     "output_type": "stream",
     "text": [
      "[Skipped] ../../../../ibex/ai/home/saitaa0b/wikiart/Romanticism/arnold-bã¶cklin_villa-by-the-sea-1.jpg due to error: [Errno 2] No such file or directory: '/ibex/user/saitaa0b/wikiart/Romanticism/arnold-bã¶cklin_villa-by-the-sea-1.jpg'\n",
      "[Skipped] ../../../../ibex/ai/home/saitaa0b/wikiart/Romanticism/arnold-bã¶cklin_villa-by-the-sea-1.jpg due to error: [Errno 2] No such file or directory: '/ibex/user/saitaa0b/wikiart/Romanticism/arnold-bã¶cklin_villa-by-the-sea-1.jpg'\n",
      "[Skipped] ../../../../ibex/ai/home/saitaa0b/wikiart/Romanticism/arnold-bã¶cklin_villa-by-the-sea-1.jpg due to error: [Errno 2] No such file or directory: '/ibex/user/saitaa0b/wikiart/Romanticism/arnold-bã¶cklin_villa-by-the-sea-1.jpg'\n",
      "[Skipped] ../../../../ibex/ai/home/saitaa0b/wikiart/Romanticism/arnold-bã¶cklin_villa-by-the-sea-1.jpg due to error: [Errno 2] No such file or directory: '/ibex/user/saitaa0b/wikiart/Romanticism/arnold-bã¶cklin_villa-by-the-sea-1.jpg'\n"
     ]
    },
    {
     "name": "stderr",
     "output_type": "stream",
     "text": [
      "Generating captions:  60%|██████    | 17559/29061 [8:01:47<6:07:53,  1.92s/it]"
     ]
    },
    {
     "name": "stdout",
     "output_type": "stream",
     "text": [
      "[Skipped] ../../../../ibex/ai/home/saitaa0b/wikiart/Impressionism/joaquã­n-sorolla_andalusia-the-round-up-1914.jpg due to error: [Errno 2] No such file or directory: '/ibex/user/saitaa0b/wikiart/Impressionism/joaquã\\xadn-sorolla_andalusia-the-round-up-1914.jpg'\n",
      "[Skipped] ../../../../ibex/ai/home/saitaa0b/wikiart/Impressionism/joaquã­n-sorolla_andalusia-the-round-up-1914.jpg due to error: [Errno 2] No such file or directory: '/ibex/user/saitaa0b/wikiart/Impressionism/joaquã\\xadn-sorolla_andalusia-the-round-up-1914.jpg'\n",
      "[Skipped] ../../../../ibex/ai/home/saitaa0b/wikiart/Impressionism/joaquã­n-sorolla_andalusia-the-round-up-1914.jpg due to error: [Errno 2] No such file or directory: '/ibex/user/saitaa0b/wikiart/Impressionism/joaquã\\xadn-sorolla_andalusia-the-round-up-1914.jpg'\n",
      "[Skipped] ../../../../ibex/ai/home/saitaa0b/wikiart/Impressionism/joaquã­n-sorolla_andalusia-the-round-up-1914.jpg due to error: [Errno 2] No such file or directory: '/ibex/user/saitaa0b/wikiart/Impressionism/joaquã\\xadn-sorolla_andalusia-the-round-up-1914.jpg'\n"
     ]
    },
    {
     "name": "stderr",
     "output_type": "stream",
     "text": [
      "Generating captions:  61%|██████    | 17601/29061 [8:02:53<4:38:40,  1.46s/it]"
     ]
    },
    {
     "name": "stdout",
     "output_type": "stream",
     "text": [
      "[Skipped] ../../../../ibex/ai/home/saitaa0b/wikiart/Baroque/mestre-ataã­de_assun-o-da-virgem-detail-1823.jpg due to error: [Errno 2] No such file or directory: '/ibex/user/saitaa0b/wikiart/Baroque/mestre-ataã\\xadde_assun-o-da-virgem-detail-1823.jpg'\n",
      "[Skipped] ../../../../ibex/ai/home/saitaa0b/wikiart/Baroque/mestre-ataã­de_assun-o-da-virgem-detail-1823.jpg due to error: [Errno 2] No such file or directory: '/ibex/user/saitaa0b/wikiart/Baroque/mestre-ataã\\xadde_assun-o-da-virgem-detail-1823.jpg'\n",
      "[Skipped] ../../../../ibex/ai/home/saitaa0b/wikiart/Baroque/mestre-ataã­de_assun-o-da-virgem-detail-1823.jpg due to error: [Errno 2] No such file or directory: '/ibex/user/saitaa0b/wikiart/Baroque/mestre-ataã\\xadde_assun-o-da-virgem-detail-1823.jpg'\n",
      "[Skipped] ../../../../ibex/ai/home/saitaa0b/wikiart/Baroque/mestre-ataã­de_assun-o-da-virgem-detail-1823.jpg due to error: [Errno 2] No such file or directory: '/ibex/user/saitaa0b/wikiart/Baroque/mestre-ataã\\xadde_assun-o-da-virgem-detail-1823.jpg'\n"
     ]
    },
    {
     "name": "stderr",
     "output_type": "stream",
     "text": [
      "Generating captions:  62%|██████▏   | 17907/29061 [8:11:27<5:01:24,  1.62s/it]"
     ]
    },
    {
     "name": "stdout",
     "output_type": "stream",
     "text": [
      "[Skipped] ../../../../ibex/ai/home/saitaa0b/wikiart/Romanticism/ferdinand-georg-waldmã¼ller_yard-of-the-old-heum-ller-in-vienna-1859.jpg due to error: [Errno 2] No such file or directory: '/ibex/user/saitaa0b/wikiart/Romanticism/ferdinand-georg-waldmã¼ller_yard-of-the-old-heum-ller-in-vienna-1859.jpg'\n",
      "[Skipped] ../../../../ibex/ai/home/saitaa0b/wikiart/Romanticism/ferdinand-georg-waldmã¼ller_yard-of-the-old-heum-ller-in-vienna-1859.jpg due to error: [Errno 2] No such file or directory: '/ibex/user/saitaa0b/wikiart/Romanticism/ferdinand-georg-waldmã¼ller_yard-of-the-old-heum-ller-in-vienna-1859.jpg'\n",
      "[Skipped] ../../../../ibex/ai/home/saitaa0b/wikiart/Romanticism/ferdinand-georg-waldmã¼ller_yard-of-the-old-heum-ller-in-vienna-1859.jpg due to error: [Errno 2] No such file or directory: '/ibex/user/saitaa0b/wikiart/Romanticism/ferdinand-georg-waldmã¼ller_yard-of-the-old-heum-ller-in-vienna-1859.jpg'\n",
      "[Skipped] ../../../../ibex/ai/home/saitaa0b/wikiart/Romanticism/ferdinand-georg-waldmã¼ller_yard-of-the-old-heum-ller-in-vienna-1859.jpg due to error: [Errno 2] No such file or directory: '/ibex/user/saitaa0b/wikiart/Romanticism/ferdinand-georg-waldmã¼ller_yard-of-the-old-heum-ller-in-vienna-1859.jpg'\n",
      "[Skipped] ../../../../ibex/ai/home/saitaa0b/wikiart/Romanticism/ferdinand-georg-waldmã¼ller_yard-of-the-old-heum-ller-in-vienna-1859.jpg due to error: [Errno 2] No such file or directory: '/ibex/user/saitaa0b/wikiart/Romanticism/ferdinand-georg-waldmã¼ller_yard-of-the-old-heum-ller-in-vienna-1859.jpg'\n"
     ]
    },
    {
     "name": "stderr",
     "output_type": "stream",
     "text": [
      "Generating captions:  62%|██████▏   | 17936/29061 [8:12:08<5:31:01,  1.79s/it]"
     ]
    },
    {
     "name": "stdout",
     "output_type": "stream",
     "text": [
      "[Skipped] ../../../../ibex/ai/home/saitaa0b/wikiart/Realism/antã³nio-de-carvalho-da-silva-porto_charneca-de-belas-ao-p-r-do-sol-1879.jpg due to error: [Errno 2] No such file or directory: '/ibex/user/saitaa0b/wikiart/Realism/antã³nio-de-carvalho-da-silva-porto_charneca-de-belas-ao-p-r-do-sol-1879.jpg'\n",
      "[Skipped] ../../../../ibex/ai/home/saitaa0b/wikiart/Realism/antã³nio-de-carvalho-da-silva-porto_charneca-de-belas-ao-p-r-do-sol-1879.jpg due to error: [Errno 2] No such file or directory: '/ibex/user/saitaa0b/wikiart/Realism/antã³nio-de-carvalho-da-silva-porto_charneca-de-belas-ao-p-r-do-sol-1879.jpg'\n",
      "[Skipped] ../../../../ibex/ai/home/saitaa0b/wikiart/Realism/antã³nio-de-carvalho-da-silva-porto_charneca-de-belas-ao-p-r-do-sol-1879.jpg due to error: [Errno 2] No such file or directory: '/ibex/user/saitaa0b/wikiart/Realism/antã³nio-de-carvalho-da-silva-porto_charneca-de-belas-ao-p-r-do-sol-1879.jpg'\n",
      "[Skipped] ../../../../ibex/ai/home/saitaa0b/wikiart/Realism/antã³nio-de-carvalho-da-silva-porto_charneca-de-belas-ao-p-r-do-sol-1879.jpg due to error: [Errno 2] No such file or directory: '/ibex/user/saitaa0b/wikiart/Realism/antã³nio-de-carvalho-da-silva-porto_charneca-de-belas-ao-p-r-do-sol-1879.jpg'\n",
      "[Skipped] ../../../../ibex/ai/home/saitaa0b/wikiart/Realism/antã³nio-de-carvalho-da-silva-porto_charneca-de-belas-ao-p-r-do-sol-1879.jpg due to error: [Errno 2] No such file or directory: '/ibex/user/saitaa0b/wikiart/Realism/antã³nio-de-carvalho-da-silva-porto_charneca-de-belas-ao-p-r-do-sol-1879.jpg'\n"
     ]
    },
    {
     "name": "stderr",
     "output_type": "stream",
     "text": [
      "Generating captions:  62%|██████▏   | 18147/29061 [8:17:57<5:27:06,  1.80s/it]"
     ]
    },
    {
     "name": "stdout",
     "output_type": "stream",
     "text": [
      "[Skipped] ../../../../ibex/ai/home/saitaa0b/wikiart/Symbolism/arnold-bã¶cklin_the-deposition.jpg due to error: [Errno 2] No such file or directory: '/ibex/user/saitaa0b/wikiart/Symbolism/arnold-bã¶cklin_the-deposition.jpg'\n",
      "[Skipped] ../../../../ibex/ai/home/saitaa0b/wikiart/Symbolism/arnold-bã¶cklin_the-deposition.jpg due to error: [Errno 2] No such file or directory: '/ibex/user/saitaa0b/wikiart/Symbolism/arnold-bã¶cklin_the-deposition.jpg'\n",
      "[Skipped] ../../../../ibex/ai/home/saitaa0b/wikiart/Symbolism/arnold-bã¶cklin_the-deposition.jpg due to error: [Errno 2] No such file or directory: '/ibex/user/saitaa0b/wikiart/Symbolism/arnold-bã¶cklin_the-deposition.jpg'\n",
      "[Skipped] ../../../../ibex/ai/home/saitaa0b/wikiart/Symbolism/arnold-bã¶cklin_the-deposition.jpg due to error: [Errno 2] No such file or directory: '/ibex/user/saitaa0b/wikiart/Symbolism/arnold-bã¶cklin_the-deposition.jpg'\n",
      "[Skipped] ../../../../ibex/ai/home/saitaa0b/wikiart/Symbolism/arnold-bã¶cklin_the-deposition.jpg due to error: [Errno 2] No such file or directory: '/ibex/user/saitaa0b/wikiart/Symbolism/arnold-bã¶cklin_the-deposition.jpg'\n"
     ]
    },
    {
     "name": "stderr",
     "output_type": "stream",
     "text": [
      "Generating captions:  63%|██████▎   | 18389/29061 [8:24:27<4:32:59,  1.53s/it]"
     ]
    },
    {
     "name": "stdout",
     "output_type": "stream",
     "text": [
      "[Skipped] ../../../../ibex/ai/home/saitaa0b/wikiart/Art_Nouveau_Modern/eugã¨ne-grasset_self-portrait.jpg due to error: [Errno 2] No such file or directory: '/ibex/user/saitaa0b/wikiart/Art_Nouveau_Modern/eugã¨ne-grasset_self-portrait.jpg'\n",
      "[Skipped] ../../../../ibex/ai/home/saitaa0b/wikiart/Art_Nouveau_Modern/eugã¨ne-grasset_self-portrait.jpg due to error: [Errno 2] No such file or directory: '/ibex/user/saitaa0b/wikiart/Art_Nouveau_Modern/eugã¨ne-grasset_self-portrait.jpg'\n",
      "[Skipped] ../../../../ibex/ai/home/saitaa0b/wikiart/Art_Nouveau_Modern/eugã¨ne-grasset_self-portrait.jpg due to error: [Errno 2] No such file or directory: '/ibex/user/saitaa0b/wikiart/Art_Nouveau_Modern/eugã¨ne-grasset_self-portrait.jpg'\n",
      "[Skipped] ../../../../ibex/ai/home/saitaa0b/wikiart/Art_Nouveau_Modern/eugã¨ne-grasset_self-portrait.jpg due to error: [Errno 2] No such file or directory: '/ibex/user/saitaa0b/wikiart/Art_Nouveau_Modern/eugã¨ne-grasset_self-portrait.jpg'\n",
      "[Skipped] ../../../../ibex/ai/home/saitaa0b/wikiart/Art_Nouveau_Modern/eugã¨ne-grasset_self-portrait.jpg due to error: [Errno 2] No such file or directory: '/ibex/user/saitaa0b/wikiart/Art_Nouveau_Modern/eugã¨ne-grasset_self-portrait.jpg'\n"
     ]
    },
    {
     "name": "stderr",
     "output_type": "stream",
     "text": [
      "Generating captions:  64%|██████▍   | 18713/29061 [8:33:16<4:53:31,  1.70s/it]"
     ]
    },
    {
     "name": "stdout",
     "output_type": "stream",
     "text": [
      "[Skipped] ../../../../ibex/ai/home/saitaa0b/wikiart/Symbolism/arnold-bã¶cklin_pan-among-the-reeds-1858.jpg due to error: [Errno 2] No such file or directory: '/ibex/user/saitaa0b/wikiart/Symbolism/arnold-bã¶cklin_pan-among-the-reeds-1858.jpg'\n",
      "[Skipped] ../../../../ibex/ai/home/saitaa0b/wikiart/Symbolism/arnold-bã¶cklin_pan-among-the-reeds-1858.jpg due to error: [Errno 2] No such file or directory: '/ibex/user/saitaa0b/wikiart/Symbolism/arnold-bã¶cklin_pan-among-the-reeds-1858.jpg'\n",
      "[Skipped] ../../../../ibex/ai/home/saitaa0b/wikiart/Symbolism/arnold-bã¶cklin_pan-among-the-reeds-1858.jpg due to error: [Errno 2] No such file or directory: '/ibex/user/saitaa0b/wikiart/Symbolism/arnold-bã¶cklin_pan-among-the-reeds-1858.jpg'\n",
      "[Skipped] ../../../../ibex/ai/home/saitaa0b/wikiart/Symbolism/arnold-bã¶cklin_pan-among-the-reeds-1858.jpg due to error: [Errno 2] No such file or directory: '/ibex/user/saitaa0b/wikiart/Symbolism/arnold-bã¶cklin_pan-among-the-reeds-1858.jpg'\n",
      "[Skipped] ../../../../ibex/ai/home/saitaa0b/wikiart/Symbolism/arnold-bã¶cklin_pan-among-the-reeds-1858.jpg due to error: [Errno 2] No such file or directory: '/ibex/user/saitaa0b/wikiart/Symbolism/arnold-bã¶cklin_pan-among-the-reeds-1858.jpg'\n"
     ]
    },
    {
     "name": "stderr",
     "output_type": "stream",
     "text": [
      "Generating captions:  65%|██████▌   | 19021/29061 [8:41:50<4:37:02,  1.66s/it]"
     ]
    },
    {
     "name": "stdout",
     "output_type": "stream",
     "text": [
      "[Skipped] ../../../../ibex/ai/home/saitaa0b/wikiart/Romanticism/ferdinand-georg-waldmã¼ller_old-elms-in-prater-1831.jpg due to error: [Errno 2] No such file or directory: '/ibex/user/saitaa0b/wikiart/Romanticism/ferdinand-georg-waldmã¼ller_old-elms-in-prater-1831.jpg'\n",
      "[Skipped] ../../../../ibex/ai/home/saitaa0b/wikiart/Romanticism/ferdinand-georg-waldmã¼ller_old-elms-in-prater-1831.jpg due to error: [Errno 2] No such file or directory: '/ibex/user/saitaa0b/wikiart/Romanticism/ferdinand-georg-waldmã¼ller_old-elms-in-prater-1831.jpg'\n",
      "[Skipped] ../../../../ibex/ai/home/saitaa0b/wikiart/Romanticism/ferdinand-georg-waldmã¼ller_old-elms-in-prater-1831.jpg due to error: [Errno 2] No such file or directory: '/ibex/user/saitaa0b/wikiart/Romanticism/ferdinand-georg-waldmã¼ller_old-elms-in-prater-1831.jpg'\n"
     ]
    },
    {
     "name": "stderr",
     "output_type": "stream",
     "text": [
      "Generating captions:  68%|██████▊   | 19888/29061 [9:06:09<5:08:42,  2.02s/it]"
     ]
    },
    {
     "name": "stdout",
     "output_type": "stream",
     "text": [
      "[Skipped] ../../../../ibex/ai/home/saitaa0b/wikiart/Cubism/andrã©-lhote_la-plage-1957.jpg due to error: [Errno 2] No such file or directory: '/ibex/user/saitaa0b/wikiart/Cubism/andrã©-lhote_la-plage-1957.jpg'\n",
      "[Skipped] ../../../../ibex/ai/home/saitaa0b/wikiart/Cubism/andrã©-lhote_la-plage-1957.jpg due to error: [Errno 2] No such file or directory: '/ibex/user/saitaa0b/wikiart/Cubism/andrã©-lhote_la-plage-1957.jpg'\n",
      "[Skipped] ../../../../ibex/ai/home/saitaa0b/wikiart/Cubism/andrã©-lhote_la-plage-1957.jpg due to error: [Errno 2] No such file or directory: '/ibex/user/saitaa0b/wikiart/Cubism/andrã©-lhote_la-plage-1957.jpg'\n",
      "[Skipped] ../../../../ibex/ai/home/saitaa0b/wikiart/Cubism/andrã©-lhote_la-plage-1957.jpg due to error: [Errno 2] No such file or directory: '/ibex/user/saitaa0b/wikiart/Cubism/andrã©-lhote_la-plage-1957.jpg'\n",
      "[Skipped] ../../../../ibex/ai/home/saitaa0b/wikiart/Cubism/andrã©-lhote_la-plage-1957.jpg due to error: [Errno 2] No such file or directory: '/ibex/user/saitaa0b/wikiart/Cubism/andrã©-lhote_la-plage-1957.jpg'\n"
     ]
    },
    {
     "name": "stderr",
     "output_type": "stream",
     "text": [
      "Generating captions:  69%|██████▉   | 20000/29061 [9:09:05<4:20:43,  1.73s/it]"
     ]
    },
    {
     "name": "stdout",
     "output_type": "stream",
     "text": [
      "Saved chunk at 20000 examples\n"
     ]
    },
    {
     "name": "stderr",
     "output_type": "stream",
     "text": [
      "Generating captions:  69%|██████▉   | 20033/29061 [9:09:57<4:18:01,  1.71s/it]"
     ]
    }
   ],
   "source": [
    "# I had to generate this in chunks because the lists couldnt handle all 29000 sentences\n",
    "\n",
    "df = pd.read_csv(\"artelingo/dataset/test_arabic/test_arabic.csv\", encoding=\"utf-8-sig\")\n",
    "image_paths = df[\"image_file\"].tolist()\n",
    "\n",
    "processor = BlipProcessor.from_pretrained(\"Salesforce/blip-image-captioning-base\")\n",
    "\n",
    "model_allam = BlipForConditionalGeneration.from_pretrained(\n",
    "    os.path.join(\"blip-finetuned-allam\", \"checkpoint-31140\")\n",
    ").to(\"cuda\").eval()\n",
    "\n",
    "model_artelingo = BlipForConditionalGeneration.from_pretrained(\n",
    "    os.path.join(\"blip-finetuned-artelingo\", \"checkpoint-31140\")\n",
    ").to(\"cuda\").eval()\n",
    "\n",
    "base_path = \"../../../../ibex/ai/home/saitaa0b/\"\n",
    "save_every = 5000\n",
    "os.makedirs(\"generated_chunks\", exist_ok=True)\n",
    "\n",
    "preds_allam = []\n",
    "preds_artelingo = []\n",
    "images_so_far = []\n",
    "utterances_so_far = []\n",
    "\n",
    "for idx, path in enumerate(tqdm(image_paths, desc=\"Generating captions\")):\n",
    "    full_path = os.path.join(base_path, path)\n",
    "    \n",
    "    try:\n",
    "        image = Image.open(full_path).convert(\"RGB\")\n",
    "    except Exception as e:\n",
    "        print(f\"[Skipped] {full_path} due to error: {e}\")\n",
    "        continue  # dont append anything\n",
    "\n",
    "\n",
    "    inputs = processor(images=image, return_tensors=\"pt\").to(\"cuda\")\n",
    "\n",
    "    with torch.no_grad():\n",
    "        output_allam = model_allam.generate(**inputs, max_length=128)\n",
    "        caption_allam = processor.tokenizer.decode(output_allam[0], skip_special_tokens=True)\n",
    "\n",
    "        output_artelingo = model_artelingo.generate(**inputs, max_length=128)\n",
    "        caption_artelingo = processor.tokenizer.decode(output_artelingo[0], skip_special_tokens=True)\n",
    "\n",
    "    preds_allam.append(caption_allam)\n",
    "    preds_artelingo.append(caption_artelingo)\n",
    "    images_so_far.append(path)\n",
    "    utterances_so_far.append(df.loc[idx, \"utterance_spelled\"])\n",
    "\n",
    "    if (idx + 1) % save_every == 0 or (idx + 1) == len(image_paths):\n",
    "        df_chunk = pd.DataFrame({\n",
    "            \"image\": images_so_far,\n",
    "            \"caption_artelingo\": utterances_so_far,\n",
    "            \"pred_allam\": preds_allam,\n",
    "            \"pred_artelingo\": preds_artelingo\n",
    "        })\n",
    "        df_chunk.to_csv(f\"generated_chunks/captions_{idx+1}.csv\", index=False, encoding=\"utf-8-sig\")\n",
    "        print(f\"Saved chunk at {idx+1} examples\")\n",
    "        \n",
    "        preds_allam.clear()\n",
    "        preds_artelingo.clear()\n",
    "        images_so_far.clear()\n",
    "        utterances_so_far.clear()\n",
    "        \n",
    "        torch.cuda.empty_cache()\n",
    "        gc.collect()"
   ]
  },
  {
   "cell_type": "code",
   "execution_count": 2,
   "id": "36ab3a15-5208-4d37-9405-f68de001ba29",
   "metadata": {},
   "outputs": [
    {
     "name": "stdout",
     "output_type": "stream",
     "text": [
      "All chunks merged into 'generated_captions.csv'\n"
     ]
    }
   ],
   "source": [
    "csv_files = sorted(glob.glob(\"generated_chunks/captions_*.csv\"))\n",
    "dfs = [pd.read_csv(f, encoding=\"utf-8-sig\") for f in csv_files]\n",
    "df_full = pd.concat(dfs, ignore_index=True)\n",
    "df_full.to_csv(\"generated_captions.csv\", index=False, encoding=\"utf-8-sig\")\n",
    "\n",
    "print(\"All chunks merged into 'generated_captions.csv'\")"
   ]
  },
  {
   "cell_type": "code",
   "execution_count": 4,
   "id": "937c8696-9534-4918-9b34-4b3a7f0199b6",
   "metadata": {},
   "outputs": [
    {
     "name": "stdout",
     "output_type": "stream",
     "text": [
      "['جزء من باب من الخشب على شكل مستطيل يبدو كأنه يعبر عن شئ ما', 'برواز حائطي فارغ باللون الفاتح وله اطار بارز بدرجات الوانه', 'رجل و امرأتان في مكان واحد و هم عرايا و ظهور مفاتنهم']\n"
     ]
    },
    {
     "name": "stderr",
     "output_type": "stream",
     "text": [
      "[nltk_data] Downloading package wordnet to /home/saitaa0b/nltk_data...\n",
      "[nltk_data]   Package wordnet is already up-to-date!\n",
      "[nltk_data] Downloading package punkt_tab to\n",
      "[nltk_data]     /home/saitaa0b/nltk_data...\n",
      "[nltk_data]   Package punkt_tab is already up-to-date!\n",
      "[nltk_data] Downloading package omw-1.4 to /home/saitaa0b/nltk_data...\n",
      "[nltk_data]   Package omw-1.4 is already up-to-date!\n"
     ]
    },
    {
     "name": "stdout",
     "output_type": "stream",
     "text": [
      "\n",
      "=== Metric Results ===\n",
      "\n",
      "BLEU (ALLAM): 0.0025\n",
      "BLEU (ArtELingo): 0.0096\n",
      "METEOR (ALLAM): 0.0385\n",
      "METEOR (ArtELingo): 0.0494\n",
      "ROUGE-L (ALLAM): 0.0000\n",
      "ROUGE-L (ArtELingo): 0.0000\n",
      "Saved metrics to 'metric_results.csv'\n"
     ]
    }
   ],
   "source": [
    "from evaluate import load\n",
    "import pandas as pd\n",
    "\n",
    "df_preds = pd.read_csv(\"generated_captions.csv\", encoding=\"utf-8-sig\")\n",
    "\n",
    "# extracting predictions and references\n",
    "refs = df_preds[\"caption_artelingo\"].tolist()  # Ground-truth ArtELingo captions\n",
    "preds_allam = df_preds[\"pred_allam\"].tolist()  # ALLAM+BLIP predictions\n",
    "preds_artelingo = df_preds[\"pred_artelingo\"].tolist()  # ArtELingo+BLIP predictions\n",
    "\n",
    "refs_bleu = [[r] for r in refs]  # BLEU needs list of lists\n",
    "\n",
    "bleu = load(\"bleu\")\n",
    "meteor = load(\"meteor\")\n",
    "rouge = load(\"rouge\")\n",
    "\n",
    "metrics = {}\n",
    "\n",
    "metrics[\"BLEU (ALLAM)\"] = bleu.compute(predictions=preds_allam, references=refs_bleu)[\"bleu\"]\n",
    "metrics[\"BLEU (ArtELingo)\"] = bleu.compute(predictions=preds_artelingo, references=refs_bleu)[\"bleu\"]\n",
    "\n",
    "metrics[\"METEOR (ALLAM)\"] = meteor.compute(predictions=preds_allam, references=refs)[\"meteor\"]\n",
    "metrics[\"METEOR (ArtELingo)\"] = meteor.compute(predictions=preds_artelingo, references=refs)[\"meteor\"]\n",
    "\n",
    "metrics[\"ROUGE-L (ALLAM)\"] = rouge.compute(predictions=preds_allam, references=refs)[\"rougeL\"]\n",
    "metrics[\"ROUGE-L (ArtELingo)\"] = rouge.compute(predictions=preds_artelingo, references=refs)[\"rougeL\"]\n",
    "\n",
    "print(\"\\n=== Metric Results ===\\n\")\n",
    "for name, value in metrics.items():\n",
    "    print(f\"{name}: {value:.4f}\")\n",
    "\n",
    "metrics_df = pd.DataFrame(list(metrics.items()), columns=[\"Metric\", \"Score\"])\n",
    "metrics_df.to_csv(\"metric_results.csv\", index=False, encoding=\"utf-8-sig\")\n",
    "\n",
    "print(\"Saved metrics to 'metric_results.csv'\")\n"
   ]
  }
 ],
 "metadata": {
  "kernelspec": {
   "display_name": "Python 3 (ipykernel)",
   "language": "python",
   "name": "python3"
  },
  "language_info": {
   "codemirror_mode": {
    "name": "ipython",
    "version": 3
   },
   "file_extension": ".py",
   "mimetype": "text/x-python",
   "name": "python",
   "nbconvert_exporter": "python",
   "pygments_lexer": "ipython3",
   "version": "3.10.16"
  }
 },
 "nbformat": 4,
 "nbformat_minor": 5
}
